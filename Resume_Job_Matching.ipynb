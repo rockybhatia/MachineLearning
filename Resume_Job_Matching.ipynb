{
 "cells": [
  {
   "cell_type": "markdown",
   "metadata": {},
   "source": [
    "# 1. Imports"
   ]
  },
  {
   "cell_type": "code",
   "execution_count": 13,
   "metadata": {},
   "outputs": [
    {
     "name": "stderr",
     "output_type": "stream",
     "text": [
      "C:\\ProgramData\\Anaconda3\\lib\\site-packages\\requests\\__init__.py:80: RequestsDependencyWarning: urllib3 (1.22) or chardet (2.3.0) doesn't match a supported version!\n",
      "  RequestsDependencyWarning)\n",
      "C:\\ProgramData\\Anaconda3\\lib\\site-packages\\gensim\\utils.py:1197: UserWarning: detected Windows; aliasing chunkize to chunkize_serial\n",
      "  warnings.warn(\"detected Windows; aliasing chunkize to chunkize_serial\")\n"
     ]
    }
   ],
   "source": [
    "import re\n",
    "\n",
    "#import nltk\n",
    "#Uncomment for first run to download datasets.\n",
    "#nltk.download()\n",
    "\n",
    "import numpy as np\n",
    "import pandas as pd\n",
    "\n",
    "import matplotlib.pyplot as plt\n",
    "import seaborn as sns\n",
    "\n",
    "from io import StringIO\n",
    "\n",
    "\n",
    "from sklearn.feature_extraction.text import CountVectorizer\n",
    "from sklearn.feature_extraction.text import TfidfVectorizer\n",
    "from sklearn.feature_extraction.text import TfidfTransformer\n",
    "\n",
    "from sklearn.linear_model import LogisticRegression\n",
    "from sklearn.ensemble import RandomForestClassifier\n",
    "from sklearn.naive_bayes import MultinomialNB\n",
    "from sklearn.svm import LinearSVC\n",
    "\n",
    "from sklearn.decomposition import TruncatedSVD\n",
    "\n",
    "from sklearn import metrics\n",
    "import numpy as np\n",
    "import pandas as pd\n",
    "from sklearn.feature_extraction.text import TfidfVectorizer\n",
    "from sklearn.metrics.pairwise import cosine_similarity\n",
    "from sklearn.metrics import jaccard_similarity_score\n",
    "from sklearn.feature_extraction.text import CountVectorizer, TfidfVectorizer\n",
    "from sklearn.neighbors import NearestNeighbors\n",
    "from gensim.summarization import summarize"
   ]
  },
  {
   "cell_type": "code",
   "execution_count": null,
   "metadata": {},
   "outputs": [],
   "source": [
    "import sys"
   ]
  },
  {
   "cell_type": "code",
   "execution_count": null,
   "metadata": {},
   "outputs": [],
   "source": [
    "!conda install --yes --prefix {sys.prefix} gensim"
   ]
  },
  {
   "cell_type": "markdown",
   "metadata": {},
   "source": [
    "# 3. Read Dataset and Clean"
   ]
  },
  {
   "cell_type": "code",
   "execution_count": 2,
   "metadata": {},
   "outputs": [],
   "source": [
    "df = pd.read_csv(\"C:\\\\Users\\\\rbhatia\\\\Documents\\\\GreatLearning\\\\Datasets\\\\resume_cleaned.csv\")"
   ]
  },
  {
   "cell_type": "code",
   "execution_count": 3,
   "metadata": {
    "scrolled": true
   },
   "outputs": [
    {
     "data": {
      "text/html": [
       "<div>\n",
       "<style scoped>\n",
       "    .dataframe tbody tr th:only-of-type {\n",
       "        vertical-align: middle;\n",
       "    }\n",
       "\n",
       "    .dataframe tbody tr th {\n",
       "        vertical-align: top;\n",
       "    }\n",
       "\n",
       "    .dataframe thead th {\n",
       "        text-align: right;\n",
       "    }\n",
       "</style>\n",
       "<table border=\"1\" class=\"dataframe\">\n",
       "  <thead>\n",
       "    <tr style=\"text-align: right;\">\n",
       "      <th></th>\n",
       "      <th>ID</th>\n",
       "      <th>Category</th>\n",
       "      <th>Resume</th>\n",
       "    </tr>\n",
       "  </thead>\n",
       "  <tbody>\n",
       "    <tr>\n",
       "      <th>308</th>\n",
       "      <td>311</td>\n",
       "      <td>Education</td>\n",
       "      <td>Resume Sample Purposes Only Resumes For Teachers</td>\n",
       "    </tr>\n",
       "    <tr>\n",
       "      <th>930</th>\n",
       "      <td>942</td>\n",
       "      <td>Engineering</td>\n",
       "      <td>Alan Cheng Department Computer Science Duke Un...</td>\n",
       "    </tr>\n",
       "    <tr>\n",
       "      <th>386</th>\n",
       "      <td>389</td>\n",
       "      <td>Advocate</td>\n",
       "      <td>Sample Law CV Jayne Murphy Home address Prior ...</td>\n",
       "    </tr>\n",
       "    <tr>\n",
       "      <th>473</th>\n",
       "      <td>477</td>\n",
       "      <td>Business Development</td>\n",
       "      <td>yn Applegarth St Some town NY Home Cell somena...</td>\n",
       "    </tr>\n",
       "    <tr>\n",
       "      <th>1205</th>\n",
       "      <td>1219</td>\n",
       "      <td>Aviation</td>\n",
       "      <td>Entry Level Resume Guide This packet intend se...</td>\n",
       "    </tr>\n",
       "    <tr>\n",
       "      <th>679</th>\n",
       "      <td>685</td>\n",
       "      <td>Consultant</td>\n",
       "      <td>Management Consulting Analyst Resume Example J...</td>\n",
       "    </tr>\n",
       "    <tr>\n",
       "      <th>275</th>\n",
       "      <td>278</td>\n",
       "      <td>Education</td>\n",
       "      <td>Education PhD Education Administration Univers...</td>\n",
       "    </tr>\n",
       "    <tr>\n",
       "      <th>909</th>\n",
       "      <td>921</td>\n",
       "      <td>Engineering</td>\n",
       "      <td>JANE BULL CIVIL ENGINEER PERSONAL SUMMARY AREA...</td>\n",
       "    </tr>\n",
       "    <tr>\n",
       "      <th>318</th>\n",
       "      <td>321</td>\n",
       "      <td>Education</td>\n",
       "      <td>Theodore Detweiler EDUCATION Bachelor Science ...</td>\n",
       "    </tr>\n",
       "    <tr>\n",
       "      <th>1136</th>\n",
       "      <td>1150</td>\n",
       "      <td>Banking</td>\n",
       "      <td>Bank Risk Manager Resume Template Riana Olsen ...</td>\n",
       "    </tr>\n",
       "  </tbody>\n",
       "</table>\n",
       "</div>"
      ],
      "text/plain": [
       "        ID              Category  \\\n",
       "308    311             Education   \n",
       "930    942           Engineering   \n",
       "386    389              Advocate   \n",
       "473    477  Business Development   \n",
       "1205  1219              Aviation   \n",
       "679    685            Consultant   \n",
       "275    278             Education   \n",
       "909    921           Engineering   \n",
       "318    321             Education   \n",
       "1136  1150               Banking   \n",
       "\n",
       "                                                 Resume  \n",
       "308    Resume Sample Purposes Only Resumes For Teachers  \n",
       "930   Alan Cheng Department Computer Science Duke Un...  \n",
       "386   Sample Law CV Jayne Murphy Home address Prior ...  \n",
       "473   yn Applegarth St Some town NY Home Cell somena...  \n",
       "1205  Entry Level Resume Guide This packet intend se...  \n",
       "679   Management Consulting Analyst Resume Example J...  \n",
       "275   Education PhD Education Administration Univers...  \n",
       "909   JANE BULL CIVIL ENGINEER PERSONAL SUMMARY AREA...  \n",
       "318   Theodore Detweiler EDUCATION Bachelor Science ...  \n",
       "1136  Bank Risk Manager Resume Template Riana Olsen ...  "
      ]
     },
     "execution_count": 3,
     "metadata": {},
     "output_type": "execute_result"
    }
   ],
   "source": [
    "df.sample(10)"
   ]
  },
  {
   "cell_type": "markdown",
   "metadata": {},
   "source": [
    "#  SIMILARITY Computation"
   ]
  },
  {
   "cell_type": "code",
   "execution_count": null,
   "metadata": {},
   "outputs": [],
   "source": []
  },
  {
   "cell_type": "code",
   "execution_count": null,
   "metadata": {},
   "outputs": [],
   "source": []
  },
  {
   "cell_type": "code",
   "execution_count": 4,
   "metadata": {},
   "outputs": [],
   "source": [
    "# This methos creates a common dataset of resumes and job description\n",
    "def create_resume_jd():\n",
    "    df = pd.read_csv(\"C:\\\\Users\\\\rbhatia\\\\Documents\\\\GreatLearning\\\\Datasets\\\\resume_cleaned.csv\")\n",
    "    jd_data = {'ID': [df.ID.max()+1], \n",
    "               'Category': ['JD'],\n",
    "              'Resume': [open('C:\\\\Users\\\\rbhatia\\\\Desktop\\\\MachineLearning-master\\\\Job Description.txt', 'r').read()]}\n",
    "    jd = pd.DataFrame(data=jd_data)\n",
    "    df = df.append(jd, ignore_index=True)\n",
    "    return df\n",
    "\n"
   ]
  },
  {
   "cell_type": "code",
   "execution_count": 5,
   "metadata": {},
   "outputs": [],
   "source": [
    "# This methos transforms the passed dataframe to its TF-IDF form and computes Cosine Similarities between the \n",
    "# JD and each of the resumes in the passed dataframe\n",
    "def cosine_similarities(data):\n",
    "    tf = TfidfVectorizer(analyzer='word', ngram_range=(1, 3), min_df=0, stop_words='english')\n",
    "    tfidf_matrix = tf.fit_transform(data['Resume'])\n",
    "    # JD is the last element in the dataframe. So, computing its cosine similarity with all but last element\n",
    "    return cosine_similarity(tfidf_matrix[-1], tfidf_matrix[:-1])\n"
   ]
  },
  {
   "cell_type": "code",
   "execution_count": 6,
   "metadata": {},
   "outputs": [],
   "source": [
    "# This method fetches the resumes that match closely with the job description from cosine similarity table \n",
    "# and prints \"n\" closets ones, where n is variable\n",
    "def recommend(data_resume, jd_resume_similarities, num):\n",
    "    similar = np.argsort(jd_resume_similarities)[0][-num:]\n",
    "    print(\"Recommending {} resumes closest to the Job description\".format(num)) \n",
    "    print(\"-------\")\n",
    "    for i in (reversed(similar)) :          \n",
    "        print(\"CandidateID:{}, Class/Domain:{} (Score:{})\".format(data_resume.loc[i].ID,data_resume.loc[i].Category,jd_resume_similarities[0][i]))\n",
    "      "
   ]
  },
  {
   "cell_type": "code",
   "execution_count": 7,
   "metadata": {},
   "outputs": [],
   "source": [
    "data = create_resume_jd()\n"
   ]
  },
  {
   "cell_type": "code",
   "execution_count": 8,
   "metadata": {},
   "outputs": [
    {
     "name": "stdout",
     "output_type": "stream",
     "text": [
      "Recommending 10 resumes closest to the Job description\n",
      "-------\n",
      "CandidateID:224, Class/Domain:Information Technology (Score:0.04909904361851691)\n",
      "CandidateID:445, Class/Domain:Business Development (Score:0.03941860523735159)\n",
      "CandidateID:1126, Class/Domain:Banking (Score:0.03171263915356968)\n",
      "CandidateID:436, Class/Domain:Business Development (Score:0.03124659177014561)\n",
      "CandidateID:460, Class/Domain:Business Development (Score:0.02874774787056558)\n",
      "CandidateID:855, Class/Domain:Finance (Score:0.027696475240907622)\n",
      "CandidateID:222, Class/Domain:Information Technology (Score:0.025759115055994482)\n",
      "CandidateID:905, Class/Domain:Engineering (Score:0.025224384899043766)\n",
      "CandidateID:984, Class/Domain:Engineering (Score:0.025224384899043766)\n",
      "CandidateID:216, Class/Domain:Information Technology (Score:0.02336294999677815)\n"
     ]
    }
   ],
   "source": [
    "similarities = cosine_similarities(data)\n",
    "recommend(data, similarities, num = 10)"
   ]
  },
  {
   "cell_type": "code",
   "execution_count": null,
   "metadata": {},
   "outputs": [],
   "source": []
  },
  {
   "cell_type": "markdown",
   "metadata": {},
   "source": [
    "# Calculating Scores using Knn "
   ]
  },
  {
   "cell_type": "code",
   "execution_count": null,
   "metadata": {},
   "outputs": [],
   "source": [
    "# Reading  job Description File "
   ]
  },
  {
   "cell_type": "code",
   "execution_count": 52,
   "metadata": {},
   "outputs": [],
   "source": [
    "f = open(\"C:\\\\Users\\\\rbhatia\\\\Desktop\\\\MachineLearning-master\\\\Job Description.txt\" , 'r')"
   ]
  },
  {
   "cell_type": "code",
   "execution_count": 53,
   "metadata": {},
   "outputs": [
    {
     "name": "stdout",
     "output_type": "stream",
     "text": [
      "Specific responsibilities include: \n",
      "Developing statistical natural language understanding (NLU) models that elevate the customer experience.\n",
      "Ensuring data quality throughout all stages of acquisition and processing, including data sourcing/collection, ground truth generation, normalization, transformation, and cross-lingual alignment/mapping.\n",
      "Auditing metrics data and success criteria.\n",
      "Work with engineers to develop efficient data querying infrastructure for both offline and online use cases.\n",
      "Basic Qualifications\n",
      "Bachelor or Master's degree in highly quantitative field (CS, machine learning, mathematics, statistics) or equivalent experience.\n",
      "Experience with R, Python, Weka, SAS, Matlab or other statistical/machine learning software.\n",
      "Experience applying various machine learning techniques, and understanding the key parameters that affect their performance.\n",
      "Experience developing experimental and analytic plans for data modeling processes, use of strong baselines, and the ability to accurately determine cause and effect relationships.\n",
      "Understanding of relevant statistical measures such as confidence intervals, significance of error measurements, development and evaluation data sets, etc.\n",
      "Preferred Qualifications\n",
      "3+ years of experience with machine learning, statistical modeling, data mining, and analytics techniques.\n",
      "Experience in one or more natural language processing topics: tagging, syntactic parsing, word sense disambiguation, topic modeling; contextual text mining, and application of deep learning to NLP.\n",
      "Previous experience in a ML or data scientist role with a large technology company.\n",
      "Fluency in a language other than English\n"
     ]
    }
   ],
   "source": [
    "job_desc = f.read()\n",
    "\n",
    "print(job_desc)\n"
   ]
  },
  {
   "cell_type": "code",
   "execution_count": null,
   "metadata": {},
   "outputs": [],
   "source": [
    "# Using Gensim Library for Summarization of the text "
   ]
  },
  {
   "cell_type": "code",
   "execution_count": 54,
   "metadata": {},
   "outputs": [],
   "source": [
    "job_var = str(job_desc)\n",
    "job_var = summarize(job_var, word_count=100)\n",
    "job_desc = [job_var]"
   ]
  },
  {
   "cell_type": "code",
   "execution_count": null,
   "metadata": {},
   "outputs": [],
   "source": [
    "# Summary of job_description"
   ]
  },
  {
   "cell_type": "code",
   "execution_count": 55,
   "metadata": {},
   "outputs": [
    {
     "name": "stdout",
     "output_type": "stream",
     "text": [
      "Developing statistical natural language understanding (NLU) models that elevate the customer experience.\n",
      "Experience developing experimental and analytic plans for data modeling processes, use of strong baselines, and the ability to accurately determine cause and effect relationships.\n",
      "Understanding of relevant statistical measures such as confidence intervals, significance of error measurements, development and evaluation data sets, etc.\n",
      "3+ years of experience with machine learning, statistical modeling, data mining, and analytics techniques.\n",
      "Experience in one or more natural language processing topics: tagging, syntactic parsing, word sense disambiguation, topic modeling; contextual text mining, and application of deep learning to NLP.\n"
     ]
    }
   ],
   "source": [
    "print(job_var)"
   ]
  },
  {
   "cell_type": "code",
   "execution_count": null,
   "metadata": {},
   "outputs": [],
   "source": [
    "# Featurization and vector conversion"
   ]
  },
  {
   "cell_type": "code",
   "execution_count": 56,
   "metadata": {},
   "outputs": [],
   "source": [
    "vectorizer = TfidfVectorizer(stop_words='english')\n",
    "vectorizer.fit(job_desc)\n",
    "job_vector = vectorizer.transform(job_desc)"
   ]
  },
  {
   "cell_type": "code",
   "execution_count": 57,
   "metadata": {},
   "outputs": [],
   "source": [
    "Job_Desc = job_vector.toarray()"
   ]
  },
  {
   "cell_type": "code",
   "execution_count": 58,
   "metadata": {},
   "outputs": [
    {
     "data": {
      "text/plain": [
       "(1, 55)"
      ]
     },
     "execution_count": 58,
     "metadata": {},
     "output_type": "execute_result"
    }
   ],
   "source": [
    "Job_Desc.shape\n"
   ]
  },
  {
   "cell_type": "code",
   "execution_count": null,
   "metadata": {},
   "outputs": [],
   "source": [
    "# Reading Resume File "
   ]
  },
  {
   "cell_type": "code",
   "execution_count": 59,
   "metadata": {},
   "outputs": [],
   "source": [
    "resume = pd.read_csv(\"C:\\\\Users\\\\rbhatia\\\\Documents\\\\GreatLearning\\\\Datasets\\\\resume_cleaned.csv\")"
   ]
  },
  {
   "cell_type": "code",
   "execution_count": 25,
   "metadata": {},
   "outputs": [],
   "source": [
    "\n",
    "df = pd.read_csv(\"C:\\\\Users\\\\rbhatia\\\\Documents\\\\GreatLearning\\\\Datasets\\\\resume_cleaned.csv\")\n",
    "jd_data = {'ID': [df.ID.max()+1], \n",
    "               'Category': ['JD'],\n",
    "              'Resume': [open('C:\\\\Users\\\\rbhatia\\\\Desktop\\\\MachineLearning-master\\\\Job Description.txt', 'r').read()]}\n",
    "jd = pd.DataFrame(data=jd_data)\n",
    "df = df.append(jd, ignore_index=True)\n"
   ]
  },
  {
   "cell_type": "code",
   "execution_count": 26,
   "metadata": {},
   "outputs": [
    {
     "data": {
      "text/html": [
       "<div>\n",
       "<style scoped>\n",
       "    .dataframe tbody tr th:only-of-type {\n",
       "        vertical-align: middle;\n",
       "    }\n",
       "\n",
       "    .dataframe tbody tr th {\n",
       "        vertical-align: top;\n",
       "    }\n",
       "\n",
       "    .dataframe thead th {\n",
       "        text-align: right;\n",
       "    }\n",
       "</style>\n",
       "<table border=\"1\" class=\"dataframe\">\n",
       "  <thead>\n",
       "    <tr style=\"text-align: right;\">\n",
       "      <th></th>\n",
       "      <th>ID</th>\n",
       "      <th>Category</th>\n",
       "      <th>Resume</th>\n",
       "    </tr>\n",
       "  </thead>\n",
       "  <tbody>\n",
       "    <tr>\n",
       "      <th>291</th>\n",
       "      <td>294</td>\n",
       "      <td>Education</td>\n",
       "      <td>Monterey County HEALTH EDUCATION ASSISTANT DEF...</td>\n",
       "    </tr>\n",
       "    <tr>\n",
       "      <th>735</th>\n",
       "      <td>743</td>\n",
       "      <td>Digital Media</td>\n",
       "      <td>Curriculum Vitae Gary King April Contact Insti...</td>\n",
       "    </tr>\n",
       "    <tr>\n",
       "      <th>22</th>\n",
       "      <td>23</td>\n",
       "      <td>HR</td>\n",
       "      <td>Shweta XXX Mobile mail shweta gmail com Career...</td>\n",
       "    </tr>\n",
       "    <tr>\n",
       "      <th>206</th>\n",
       "      <td>209</td>\n",
       "      <td>Information Technology</td>\n",
       "      <td>Tosin Amuda Department Computer Sciences Unive...</td>\n",
       "    </tr>\n",
       "    <tr>\n",
       "      <th>458</th>\n",
       "      <td>462</td>\n",
       "      <td>Business Development</td>\n",
       "      <td>Entry Level Business Analyst SAMPLE RESUME ADV...</td>\n",
       "    </tr>\n",
       "    <tr>\n",
       "      <th>939</th>\n",
       "      <td>951</td>\n",
       "      <td>Engineering</td>\n",
       "      <td>CURRICULUM VITAE Personal Details Family Name ...</td>\n",
       "    </tr>\n",
       "    <tr>\n",
       "      <th>402</th>\n",
       "      <td>406</td>\n",
       "      <td>Advocate</td>\n",
       "      <td>CURRICULUM VITAE Kimberly Ambrose Senior Lectu...</td>\n",
       "    </tr>\n",
       "    <tr>\n",
       "      <th>133</th>\n",
       "      <td>135</td>\n",
       "      <td>Managment</td>\n",
       "      <td>Sharon Rodgers Main Street San Francisco CA Ho...</td>\n",
       "    </tr>\n",
       "    <tr>\n",
       "      <th>1103</th>\n",
       "      <td>1117</td>\n",
       "      <td>Banking</td>\n",
       "      <td>Jacob Clarke Mitchell Bridge Road Athens GA MB...</td>\n",
       "    </tr>\n",
       "    <tr>\n",
       "      <th>61</th>\n",
       "      <td>62</td>\n",
       "      <td>Designing</td>\n",
       "      <td>Phone Education Website Email lesliexia com Ma...</td>\n",
       "    </tr>\n",
       "  </tbody>\n",
       "</table>\n",
       "</div>"
      ],
      "text/plain": [
       "        ID                Category  \\\n",
       "291    294               Education   \n",
       "735    743           Digital Media   \n",
       "22      23                      HR   \n",
       "206    209  Information Technology   \n",
       "458    462    Business Development   \n",
       "939    951             Engineering   \n",
       "402    406                Advocate   \n",
       "133    135               Managment   \n",
       "1103  1117                 Banking   \n",
       "61      62               Designing   \n",
       "\n",
       "                                                 Resume  \n",
       "291   Monterey County HEALTH EDUCATION ASSISTANT DEF...  \n",
       "735   Curriculum Vitae Gary King April Contact Insti...  \n",
       "22    Shweta XXX Mobile mail shweta gmail com Career...  \n",
       "206   Tosin Amuda Department Computer Sciences Unive...  \n",
       "458   Entry Level Business Analyst SAMPLE RESUME ADV...  \n",
       "939   CURRICULUM VITAE Personal Details Family Name ...  \n",
       "402   CURRICULUM VITAE Kimberly Ambrose Senior Lectu...  \n",
       "133   Sharon Rodgers Main Street San Francisco CA Ho...  \n",
       "1103  Jacob Clarke Mitchell Bridge Road Athens GA MB...  \n",
       "61    Phone Education Website Email lesliexia com Ma...  "
      ]
     },
     "execution_count": 26,
     "metadata": {},
     "output_type": "execute_result"
    }
   ],
   "source": [
    "df.sample(10)"
   ]
  },
  {
   "cell_type": "code",
   "execution_count": 60,
   "metadata": {},
   "outputs": [],
   "source": [
    "resume_list=resume[\"Resume\"].values.tolist()"
   ]
  },
  {
   "cell_type": "code",
   "execution_count": 61,
   "metadata": {},
   "outputs": [],
   "source": [
    "Ordered_list_Resume = []\n",
    "Resume_Vector=[]"
   ]
  },
  {
   "cell_type": "code",
   "execution_count": 29,
   "metadata": {},
   "outputs": [],
   "source": [
    "# First Converting Text into Sentences ,summarize needs data into sentences \n",
    "# Summarizing the resume content\n",
    "# Doing TFID Vectorization and Putting into list "
   ]
  },
  {
   "cell_type": "code",
   "execution_count": 62,
   "metadata": {},
   "outputs": [],
   "source": [
    "st=\"\"\n",
    "counter=0\n",
    "for i in resume_list: \n",
    "    Ordered_list_Resume.append(counter)\n",
    "    a=i.split(\" \")\n",
    "    j=0\n",
    "    counter=counter+1\n",
    "    st=\"\"\n",
    "    for k in a:\n",
    "        if(len(a) < 10):\n",
    "            continue\n",
    "        if j == 10 :\n",
    "            st=st+'\\n'\n",
    "            j=0\n",
    "        st=st+k+\" \"\n",
    "        j=j+1   \n",
    "    resume_summ = summarize(str(st), word_count=100)\n",
    "    resume_var = [resume_summ]\n",
    "    resume_vector = vectorizer.transform(resume_var)\n",
    "    Resume_Vector.append(resume_vector.toarray())\n",
    "    \n",
    "    "
   ]
  },
  {
   "cell_type": "raw",
   "metadata": {},
   "source": []
  },
  {
   "cell_type": "code",
   "execution_count": 63,
   "metadata": {},
   "outputs": [
    {
     "data": {
      "text/plain": [
       "1206"
      ]
     },
     "execution_count": 63,
     "metadata": {},
     "output_type": "execute_result"
    }
   ],
   "source": [
    "len(Resume_Vector)"
   ]
  },
  {
   "cell_type": "code",
   "execution_count": 32,
   "metadata": {},
   "outputs": [
    {
     "data": {
      "text/plain": [
       "['Developing statistical natural language understanding (NLU) models that elevate the customer experience.\\nExperience developing experimental and analytic plans for data modeling processes, use of strong baselines, and the ability to accurately determine cause and effect relationships.\\nUnderstanding of relevant statistical measures such as confidence intervals, significance of error measurements, development and evaluation data sets, etc.\\n3+ years of experience with machine learning, statistical modeling, data mining, and analytics techniques.\\nExperience in one or more natural language processing topics: tagging, syntactic parsing, word sense disambiguation, topic modeling; contextual text mining, and application of deep learning to NLP.']"
      ]
     },
     "execution_count": 32,
     "metadata": {},
     "output_type": "execute_result"
    }
   ],
   "source": [
    "job_desc"
   ]
  },
  {
   "cell_type": "code",
   "execution_count": null,
   "metadata": {},
   "outputs": [],
   "source": [
    "# Running Knn and computing "
   ]
  },
  {
   "cell_type": "code",
   "execution_count": null,
   "metadata": {},
   "outputs": [],
   "source": [
    "#Ordered_list_Resume_Score=[]"
   ]
  },
  {
   "cell_type": "code",
   "execution_count": 64,
   "metadata": {},
   "outputs": [],
   "source": [
    "Ordered_list_Resume_Score = []\n",
    "for i in Resume_Vector:\n",
    "        samples = i\n",
    "        neigh = NearestNeighbors(n_neighbors=1)\n",
    "        neigh.fit(samples) \n",
    "        NearestNeighbors(algorithm='auto', leaf_size=30)\n",
    "\n",
    "        Ordered_list_Resume_Score.extend(neigh.kneighbors(Job_Desc)[0][0].tolist())\n",
    "\n",
    "#Z = [x for _,x in sorted(zip(Ordered_list_Resume_Score,Ordered_list_Resume))]\n",
    "#print(Ordered_list_Resume_Score)"
   ]
  },
  {
   "cell_type": "code",
   "execution_count": 35,
   "metadata": {},
   "outputs": [
    {
     "data": {
      "text/plain": [
       "1206"
      ]
     },
     "execution_count": 35,
     "metadata": {},
     "output_type": "execute_result"
    }
   ],
   "source": [
    "len(Ordered_list_Resume_Score)"
   ]
  },
  {
   "cell_type": "code",
   "execution_count": 66,
   "metadata": {},
   "outputs": [
    {
     "name": "stdout",
     "output_type": "stream",
     "text": [
      "Recommending 10 resumes closest to the Job description\n",
      "-------\n",
      "CandidateID:971, Class/Domain:Engineering (Score:1.3457406003741532)\n",
      "CandidateID:318, Class/Domain:Education (Score:1.3457406003741532)\n",
      "CandidateID:934, Class/Domain:Engineering (Score:1.3457406003741532)\n",
      "CandidateID:332, Class/Domain:Education (Score:1.3457406003741532)\n",
      "CandidateID:329, Class/Domain:Education (Score:1.3457406003741532)\n",
      "CandidateID:199, Class/Domain:Information Technology (Score:1.3457406003741532)\n",
      "CandidateID:47, Class/Domain:Designing (Score:1.3457406003741532)\n",
      "CandidateID:322, Class/Domain:Education (Score:1.3457406003741532)\n",
      "CandidateID:316, Class/Domain:Education (Score:1.3457406003741532)\n",
      "CandidateID:1113, Class/Domain:Public Relations (Score:1.3457406003741532)\n"
     ]
    }
   ],
   "source": [
    "similar = np.argsort(Ordered_list_Resume_Score)[-10:]\n",
    "print(\"Recommending {} resumes closest to the Job description\".format(10)) \n",
    "print(\"-------\") \n",
    "for i in (reversed(similar)) :   \n",
    "    print(\"CandidateID:{}, Class/Domain:{} (Score:{})\".format(df.loc[i].ID,df.loc[i].Category,Ordered_list_Resume_Score[i]))\n",
    "      "
   ]
  }
 ],
 "metadata": {
  "kernelspec": {
   "display_name": "Python 3",
   "language": "python",
   "name": "python3"
  },
  "language_info": {
   "codemirror_mode": {
    "name": "ipython",
    "version": 3
   },
   "file_extension": ".py",
   "mimetype": "text/x-python",
   "name": "python",
   "nbconvert_exporter": "python",
   "pygments_lexer": "ipython3",
   "version": "3.6.5"
  }
 },
 "nbformat": 4,
 "nbformat_minor": 2
}
