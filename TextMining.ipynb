{
 "cells": [
  {
   "cell_type": "markdown",
   "metadata": {},
   "source": [
    "# 1. Imports"
   ]
  },
  {
   "cell_type": "code",
   "execution_count": 1,
   "metadata": {},
   "outputs": [],
   "source": [
    "import re\n",
    "\n",
    "#import nltk\n",
    "#Uncomment for first run to download datasets.\n",
    "#nltk.download()\n",
    "\n",
    "import numpy as np\n",
    "import pandas as pd\n",
    "\n",
    "import matplotlib.pyplot as plt\n",
    "import seaborn as sns\n",
    "\n",
    "from io import StringIO\n",
    "\n",
    "from sklearn.model_selection import cross_val_score\n",
    "from sklearn.model_selection import train_test_split\n",
    "\n",
    "from sklearn.feature_extraction.text import CountVectorizer\n",
    "from sklearn.feature_extraction.text import TfidfVectorizer\n",
    "from sklearn.feature_extraction.text import TfidfTransformer\n",
    "\n",
    "from sklearn.linear_model import LogisticRegression\n",
    "from sklearn.ensemble import RandomForestClassifier\n",
    "from sklearn.naive_bayes import MultinomialNB\n",
    "from sklearn.svm import LinearSVC\n",
    "\n",
    "from sklearn import metrics"
   ]
  },
  {
   "cell_type": "markdown",
   "metadata": {},
   "source": [
    "# 2. Utilty and Common Functions (Please document sufficiently)"
   ]
  },
  {
   "cell_type": "code",
   "execution_count": 2,
   "metadata": {},
   "outputs": [],
   "source": [
    "# Given an input string, this method performs the folowing operations:\n",
    "# 1. Mask string fragments like \\x<nn>\n",
    "# 2. Mask string fragments for escape sequences like \\a \\b \\t \\n\n",
    "# 3. Mask all numbers\n",
    "# 4. Create a list of all the words containing letters from a-z and A-Z\n",
    "# 5. Return the final filtered list of words.\n",
    "\n",
    "def clean(text):\n",
    "    # Mask string fragments like \\x<nn>\n",
    "    filtered_string = re.sub(r'\\\\x[a-z]{0,2}[0-9]{0,2}', \"\", text)\n",
    "    \n",
    "    # Mask string fragments for escape sequences like \\a \\b \\t \\n\n",
    "    filtered_string = re.sub(r'\\\\a+', \"\", filtered_string)\n",
    "    filtered_string = re.sub(r'\\\\b+', \"\", filtered_string)\n",
    "    filtered_string = re.sub(r'\\\\t+', \"\", filtered_string)\n",
    "    filtered_string = re.sub(r'\\\\n+', \"\", filtered_string)\n",
    "    \n",
    "    # Mask all numbers\n",
    "    filtered_string = re.sub(r'[0-9]+', \"\", filtered_string)\n",
    "    \n",
    "    # Create a list of all the words containing letters from a-z and A-Z\n",
    "    filtered_list = re.findall(r\"\\b([a-zA-Z]+)\\b\", filtered_string, re.M)\n",
    "    \n",
    "    # Return the final filtered List\n",
    "    return filtered_list"
   ]
  },
  {
   "cell_type": "code",
   "execution_count": 3,
   "metadata": {},
   "outputs": [],
   "source": [
    "# Give an input string this method replaces all the single letter words with empty string,\n",
    "# basically removing them from the resultant string.\n",
    "\n",
    "def mask_single_letters(text):\n",
    "    filtered_string = re.sub(r'r\"\\b([a-zA-Z]{1})\\b\"', \"\", text)\n",
    "    return filtered_string"
   ]
  },
  {
   "cell_type": "code",
   "execution_count": 4,
   "metadata": {},
   "outputs": [],
   "source": [
    "# Provided a string, this method creates and returns a set containing all the unique words\n",
    "# in the passed string.\n",
    "\n",
    "def unique_words_str(text):\n",
    "    result = set([])\n",
    "    for word in text:\n",
    "        result.add(word)\n",
    "    \n",
    "    return result"
   ]
  },
  {
   "cell_type": "code",
   "execution_count": 5,
   "metadata": {},
   "outputs": [],
   "source": [
    "# Provided a list of strings, this method creates and returns a set containing all the unique words\n",
    "# considering all the strings in the passed list.\n",
    "\n",
    "def unique_words_list(data):\n",
    "    result = set([])\n",
    "    for text in data:\n",
    "        result.update(unique_words_str(text))\n",
    "    \n",
    "    return result"
   ]
  },
  {
   "cell_type": "markdown",
   "metadata": {},
   "source": [
    "# 3. Read Dataset and Clean"
   ]
  },
  {
   "cell_type": "code",
   "execution_count": 6,
   "metadata": {},
   "outputs": [],
   "source": [
    "df = pd.read_csv(\"resume_data.csv\")"
   ]
  },
  {
   "cell_type": "code",
   "execution_count": 7,
   "metadata": {
    "scrolled": true
   },
   "outputs": [
    {
     "data": {
      "text/html": [
       "<div>\n",
       "<style scoped>\n",
       "    .dataframe tbody tr th:only-of-type {\n",
       "        vertical-align: middle;\n",
       "    }\n",
       "\n",
       "    .dataframe tbody tr th {\n",
       "        vertical-align: top;\n",
       "    }\n",
       "\n",
       "    .dataframe thead th {\n",
       "        text-align: right;\n",
       "    }\n",
       "</style>\n",
       "<table border=\"1\" class=\"dataframe\">\n",
       "  <thead>\n",
       "    <tr style=\"text-align: right;\">\n",
       "      <th></th>\n",
       "      <th>ID</th>\n",
       "      <th>Category</th>\n",
       "      <th>Resume</th>\n",
       "    </tr>\n",
       "  </thead>\n",
       "  <tbody>\n",
       "    <tr>\n",
       "      <th>336</th>\n",
       "      <td>337</td>\n",
       "      <td>Education</td>\n",
       "      <td>b'JOB SEEKER\\n128 Pleasant Street\\nMinneapolis...</td>\n",
       "    </tr>\n",
       "    <tr>\n",
       "      <th>172</th>\n",
       "      <td>173</td>\n",
       "      <td>Information Technology</td>\n",
       "      <td>b'Jan Stolarek\\nInformatics Forum 5.10\\n10 Cri...</td>\n",
       "    </tr>\n",
       "    <tr>\n",
       "      <th>485</th>\n",
       "      <td>486</td>\n",
       "      <td>Health &amp; Fitness</td>\n",
       "      <td>b'CURRICULUM VITAE\\nEmily S. Pugh, MA, OTR/L, ...</td>\n",
       "    </tr>\n",
       "    <tr>\n",
       "      <th>481</th>\n",
       "      <td>482</td>\n",
       "      <td>Health &amp; Fitness</td>\n",
       "      <td>b\"CV-Zeng, 10/20/2015\\n\\nCURRICULUM VITAE\\nXia...</td>\n",
       "    </tr>\n",
       "    <tr>\n",
       "      <th>942</th>\n",
       "      <td>943</td>\n",
       "      <td>Engineering</td>\n",
       "      <td>b'Sample Resume \\xe2\\x80\\x93 Engineering\\nDO N...</td>\n",
       "    </tr>\n",
       "    <tr>\n",
       "      <th>174</th>\n",
       "      <td>175</td>\n",
       "      <td>Information Technology</td>\n",
       "      <td>b'SOFTWARE ENGINEER\\nDEVELOPER RESUME\\nDEVELOP...</td>\n",
       "    </tr>\n",
       "    <tr>\n",
       "      <th>1210</th>\n",
       "      <td>1211</td>\n",
       "      <td>Aviation</td>\n",
       "      <td>b'Entry Level Flight Attendant Resume \\xe2\\x80...</td>\n",
       "    </tr>\n",
       "    <tr>\n",
       "      <th>642</th>\n",
       "      <td>643</td>\n",
       "      <td>Sales</td>\n",
       "      <td>b\"Retail Sales Representative Resume\\nAdam J. ...</td>\n",
       "    </tr>\n",
       "    <tr>\n",
       "      <th>637</th>\n",
       "      <td>638</td>\n",
       "      <td>Sales</td>\n",
       "      <td>b'JANE DOE\\nFrederick, MD | C: (301) 222-5487 ...</td>\n",
       "    </tr>\n",
       "    <tr>\n",
       "      <th>27</th>\n",
       "      <td>28</td>\n",
       "      <td>HR</td>\n",
       "      <td>b'RESUME WORLD INC.\\n1200 Markham Road, Suite ...</td>\n",
       "    </tr>\n",
       "  </tbody>\n",
       "</table>\n",
       "</div>"
      ],
      "text/plain": [
       "        ID                Category  \\\n",
       "336    337               Education   \n",
       "172    173  Information Technology   \n",
       "485    486        Health & Fitness   \n",
       "481    482        Health & Fitness   \n",
       "942    943             Engineering   \n",
       "174    175  Information Technology   \n",
       "1210  1211                Aviation   \n",
       "642    643                   Sales   \n",
       "637    638                   Sales   \n",
       "27      28                      HR   \n",
       "\n",
       "                                                 Resume  \n",
       "336   b'JOB SEEKER\\n128 Pleasant Street\\nMinneapolis...  \n",
       "172   b'Jan Stolarek\\nInformatics Forum 5.10\\n10 Cri...  \n",
       "485   b'CURRICULUM VITAE\\nEmily S. Pugh, MA, OTR/L, ...  \n",
       "481   b\"CV-Zeng, 10/20/2015\\n\\nCURRICULUM VITAE\\nXia...  \n",
       "942   b'Sample Resume \\xe2\\x80\\x93 Engineering\\nDO N...  \n",
       "174   b'SOFTWARE ENGINEER\\nDEVELOPER RESUME\\nDEVELOP...  \n",
       "1210  b'Entry Level Flight Attendant Resume \\xe2\\x80...  \n",
       "642   b\"Retail Sales Representative Resume\\nAdam J. ...  \n",
       "637   b'JANE DOE\\nFrederick, MD | C: (301) 222-5487 ...  \n",
       "27    b'RESUME WORLD INC.\\n1200 Markham Road, Suite ...  "
      ]
     },
     "execution_count": 7,
     "metadata": {},
     "output_type": "execute_result"
    }
   ],
   "source": [
    "df.sample(10)"
   ]
  },
  {
   "cell_type": "markdown",
   "metadata": {},
   "source": [
    "> ### Drop all attributes except Resume"
   ]
  },
  {
   "cell_type": "code",
   "execution_count": 8,
   "metadata": {},
   "outputs": [],
   "source": [
    "df = df['Resume']"
   ]
  },
  {
   "cell_type": "code",
   "execution_count": 9,
   "metadata": {},
   "outputs": [
    {
     "name": "stdout",
     "output_type": "stream",
     "text": [
      "Dataset Size: 1219\n"
     ]
    }
   ],
   "source": [
    "print(\"Dataset Size: %d\" %(df.shape[0]))"
   ]
  },
  {
   "cell_type": "code",
   "execution_count": 10,
   "metadata": {},
   "outputs": [
    {
     "data": {
      "text/plain": [
       "4       b\"HUMAN RESOURCES DIRECTOR\\n\\xef\\x82\\xb7Expert...\n",
       "167     b'Mason\\t\\r \\xc2\\xa0Silber\\t\\r \\xc2\\xa0\\n6595\\...\n",
       "1162    b'Sample Debt Collector Resume Template\\nAppli...\n",
       "414     b'R IC H AR D A. C OUR TN EY,\\n\\nCELA*\\n\\n*Cer...\n",
       "509     b'Resume Example 1 \\xe2\\x80\\x93 Recent Graduat...\n",
       "Name: Resume, dtype: object"
      ]
     },
     "execution_count": 10,
     "metadata": {},
     "output_type": "execute_result"
    }
   ],
   "source": [
    "df.sample(5)"
   ]
  },
  {
   "cell_type": "markdown",
   "metadata": {},
   "source": [
    "> ### Pick one sample record"
   ]
  },
  {
   "cell_type": "code",
   "execution_count": 11,
   "metadata": {},
   "outputs": [
    {
     "name": "stdout",
     "output_type": "stream",
     "text": [
      "b'RESUME WORLD INC.\\n1200 Markham Road, Suite 108, Toronto, Ontario M1H 3C3\\nTel: (416) 438.3606 / E-mail: info@resumworld.ca\\nCAREER PROFILE\\nA Human Resources & Payroll Manager with over 15 years of progressive experience augmented by a\\nstrong post-secondary background in Human Resources, Accounting and Business Administration.\\nExperienced in Payroll Administration, Benefits/Compensation Administration, Talent/Performance\\nManagement, Recruitment/Selection, Training/Development, HR Policy and Organizational Design,\\nContract Negotiation, Job Costing Analysis, People Management, Progress Improvement, and\\nStrategic Planning. Sound knowledge of Labour Relations, Occupational Health & Safety, Pay Equity\\nand other related labour laws. Proven ability to function as a Strategic HR Business Partner and develop\\nand implement successful human resources management strategies to support corporate mandate.\\nCreative and innovative thinker with effective human resources management and goal setting abilities\\ncombined with superior leadership, team building, communication, interpersonal, and presentation skills.\\nSelf-motivated with the ability to excel in a fast-paced environment; communicate effectively at all levels;\\nmanage competing priorities; and adapt readily to new challenges.\\n\\nPROFESSIONAL EXPERIENCE\\nCONSUMER PRODUCTS, Brampton, Ontario\\nMar 2006 \\xe2\\x80\\x93 Present\\nHuman Resources & Payroll Manager\\nFunction as a HR Generalist, responsible for Payroll Administration, Benefits/Compensation, Training &\\nDevelopment, Recruitment/Selection and Employee Relations, reporting to the AGM/Controller\\n\\xef\\x82\\xb7 Manage and process bi-weekly payroll for 200 salaried/hourly employees using Ceridian Insync\\n\\xef\\x82\\xb7 Coach managers on the process of evaluating employees, setting goals, conducting objective\\nperformance reviews, and recognizing and awarding performance to improve productivity\\n\\xef\\x82\\xb7 Handle employee terminations, grievance and other difficult situations in a sensitive, fair and\\nrespectful manner, working closely with legal council, supervisors and management\\n\\xef\\x82\\xb7 Identify talent and aspirations of individual employees and provide coaching aimed at motivating\\nthem to undertake the necessary training required to advance their careers within the company\\n\\xef\\x82\\xb7 Develop job profiles and source candidates from major job boards; select, interview and hire 76\\nemployees in collaboration with department managers\\n\\xef\\x82\\xb7 Plan and develop on-the-job training programs for line employees and career development\\nprograms for managers with a focus on retaining existing talent and reducing employee turnover\\nAccomplishments\\n\\xef\\x82\\xb7 Established and maintained proper structures and processes to track time and attendance,\\nvacations, STD/LTD and other activities resulting in efficiency gains of 33%\\n\\xef\\x82\\xb7 Implemented Payroll and HR policies resulting in annual cost savings of $237,000\\n\\xef\\x82\\xb7 Improved \\xe2\\x80\\x9cemployer branding\\xe2\\x80\\x9d by working with the IT department to design, develop and launch the\\ncompany\\xe2\\x80\\x99s first career site\\nAMPOAH CONTRACTING CO., LTD., Hamilton, Ontario\\n2000 \\xe2\\x80\\x93 2005\\nManager of Administration & Accounting\\nDirected and efficiently managed the Human Resources, Accounting and Administration functions for the\\nManufacturing and Distribution divisions of the company, reported to the Vice-President\\n\\xef\\x82\\xb7 Provided Human Resources services and support to managers and division heads, assisting them\\nto achieve divisional goals and objectives through strategic people management\\n\\xef\\x82\\xb7 Administered payroll for 1,710 employees, including Benefits Package and RRSP Plans\\n\\xef\\x82\\xb7 Established an open channel of communication enabling employees quick and easy access to\\ninformation such as Benefits, Training and Development and opportunities for career advancement\\n\\xef\\x82\\xb7 Assessed current and future skills requirements and developed and implemented a competencybased performance management system linking pay to KPI metrics\\n\\xef\\x82\\xb7 Created a training program to develop employees to meet both core and job competency gaps\\n\\xef\\x82\\xb7 Negotiated grievances and liaised with Workers Safely Insurance Board for claims processing and\\ncoordinating return to work program\\nContinues\\xe2\\x80\\xa6\\n\\n\\x0cTel: 416)438.3606 / E-mail: info@ResumeWorld.ca\\n\\nwww.ResumeWorld.ca\\n\\nAccomplishments\\n\\xef\\x82\\xb7 Worked directly with the President to redesign the company\\xe2\\x80\\x99s HR Strategy and Payroll Function to\\nsupport 1,710 salaried and hourly employees\\n\\xef\\x82\\xb7 Created a job costing model from a manual costing system by analyzing all functions of costing\\nand developing a system to track, monitor and cost all stages of production, resulting in cost\\nsavings of $750,000 and recovery of $250,000 from charge back claims for product deficiencies\\n\\xef\\x82\\xb7 Contributed to a work environment that promoted innovation and peak performance by integrating\\nhigh-performance expectations into everyday business practices and using HR policies to support\\nthe organization\\xe2\\x80\\x99s core values and competencies\\n\\xef\\x82\\xb7\\nOptimized administrative procedures by sourcing, procuring and implementing automated time\\nand attendance system resulting in 23% process improvement\\nOSCARDO INC., Toronto, Ontario\\n1998 - 2000\\nOffice Manager\\nContributed to the efficiency of company operations by managing the company\\xe2\\x80\\x99s financial portfolio and\\nstaff, including all human resources functions\\n\\xef\\x82\\xb7 Identified cost savings opportunities while managing vendor management functions\\n\\xef\\x82\\xb7 Liaised effectively with sales staff pertaining to customer credit and service issues\\n\\xef\\x82\\xb7 Managed accounting functions, including accounts receivable, accounts payable, banking\\ntransactions, budget preparation, and financial statements including quarterly financial analysis\\nFREDERICK DICKSON COMPANY INC., Don Mills, Ontario\\n1989 - 1997\\nGeneral Manager\\nManaged and controlled office and warehouse operations to ensure a high level of operational efficiency\\nin support of company goals and objectives\\n\\xef\\x82\\xb7 Managed a staff of 43, including order entry, invoice processing, accounts receivable, accounts\\npayable, customer service and warehouse employees\\n\\xef\\x82\\xb7 Prepared accounting reports, including year-end documentation and financial statements\\n\\xef\\x82\\xb7 Ensured the proper application of federal and provincial legislation to payroll including: The\\nCanada Pension Plan, The Employment Insurance Act, The Income Tax Act, Employment\\nStandards legislation, and Worker\\xe2\\x80\\x99s Compensation Acts\\n\\xef\\x82\\xb7 Communicated remittances, accounting and year end requirements to various stakeholders\\n\\xef\\x82\\xb7 Analyzed ways of enhancing management decision-making through the application of sound\\nfinancial considerations and workforce planning\\nBANK OF NOVA SCOTIA, Don Mills, Ontario\\n1984 \\xe2\\x80\\x93 1989\\nContract Analyst (Operations and Systems)\\nResponsible for protecting the Bank\\xe2\\x80\\x99s assets by managing systems contracts within and outside the\\nOperations Division in a timely and cost effective manner, reported to the Comptroller, Operations\\n\\xef\\x82\\xb7 Minimized the Banks exposure to risk by evaluating contract terms relating to vendor warranties,\\nprice protection and provisions for cancellation and/or remedies in the event of a lawsuit\\n\\xef\\x82\\xb7 Identified inefficiencies and produced appropriate amendments in accordance with negotiated\\nagreements between vendor and the Bank; reviewed by the legal counsel when required\\nEDUCATION\\nDURHAM COLLEGE, Durham, Ontario - Human Resources Management Diploma, 2003\\nYORK UNIVERSITY, Toronto, Ontario \\xe2\\x80\\x93 Accounting/Personnel Administration Certificate, 2000\\nUNIVERSITY COLLEGE, Dublin, Ireland \\xe2\\x80\\x93 Business Administration (BA), 1997\\nCOMPUTER SKILLS\\n\\xef\\x82\\xb7 Microsoft Office 2007 - Word, Excel, and PowerPoint\\n\\xef\\x82\\xb7\\nDataTrak Time and Attendance Software; Electronic Data Interchange (EDI) Software\\nREFERENCES ARE AVAILABLE UPON REQUEST'\n"
     ]
    }
   ],
   "source": [
    "sample = df.iloc[10]\n",
    "print(sample)"
   ]
  },
  {
   "cell_type": "markdown",
   "metadata": {},
   "source": [
    "> ### Cleanup"
   ]
  },
  {
   "cell_type": "code",
   "execution_count": 12,
   "metadata": {},
   "outputs": [
    {
     "name": "stdout",
     "output_type": "stream",
     "text": [
      "['b', 'RESUME', 'WORLD', 'INC', 'Markham', 'Road', 'Suite', 'Toronto', 'Ontario', 'MH', 'CTel', 'E', 'mail', 'info', 'resumworld', 'caCAREER', 'PROFILEA', 'Human', 'Resources', 'Payroll', 'Manager', 'with', 'over', 'years', 'of', 'progressive', 'experience', 'augmented', 'by', 'astrong', 'post', 'secondary', 'background', 'in', 'Human', 'Resources', 'Accounting', 'and', 'Business', 'Administration', 'Experienced', 'in', 'Payroll', 'Administration', 'Benefits', 'Compensation', 'Administration', 'Talent', 'PerformanceManagement', 'Recruitment', 'Selection', 'Training', 'Development', 'HR', 'Policy', 'and', 'Organizational', 'Design', 'Contract', 'Negotiation', 'Job', 'Costing', 'Analysis', 'People', 'Management', 'Progress', 'Improvement', 'andStrategic', 'Planning', 'Sound', 'knowledge', 'of', 'Labour', 'Relations', 'Occupational', 'Health', 'Safety', 'Pay', 'Equityand', 'other', 'related', 'labour', 'laws', 'Proven', 'ability', 'to', 'function', 'as', 'a', 'Strategic', 'HR', 'Business', 'Partner', 'and', 'developand', 'implement', 'successful', 'human', 'resources', 'management', 'strategies', 'to', 'support', 'corporate', 'mandate', 'Creative', 'and', 'innovative', 'thinker', 'with', 'effective', 'human', 'resources', 'management', 'and', 'goal', 'setting', 'abilitiescombined', 'with', 'superior', 'leadership', 'team', 'building', 'communication', 'interpersonal', 'and', 'presentation', 'skills', 'Self', 'motivated', 'with', 'the', 'ability', 'to', 'excel', 'in', 'a', 'fast', 'paced', 'environment', 'communicate', 'effectively', 'at', 'all', 'levels', 'manage', 'competing', 'priorities', 'and', 'adapt', 'readily', 'to', 'new', 'challenges', 'PROFESSIONAL', 'EXPERIENCECONSUMER', 'PRODUCTS', 'Brampton', 'OntarioMar', 'PresentHuman', 'Resources', 'Payroll', 'ManagerFunction', 'as', 'a', 'HR', 'Generalist', 'responsible', 'for', 'Payroll', 'Administration', 'Benefits', 'Compensation', 'Training', 'Development', 'Recruitment', 'Selection', 'and', 'Employee', 'Relations', 'reporting', 'to', 'the', 'AGM', 'Controller', 'Manage', 'and', 'process', 'bi', 'weekly', 'payroll', 'for', 'salaried', 'hourly', 'employees', 'using', 'Ceridian', 'Insync', 'Coach', 'managers', 'on', 'the', 'process', 'of', 'evaluating', 'employees', 'setting', 'goals', 'conducting', 'objectiveperformance', 'reviews', 'and', 'recognizing', 'and', 'awarding', 'performance', 'to', 'improve', 'productivity', 'Handle', 'employee', 'terminations', 'grievance', 'and', 'other', 'difficult', 'situations', 'in', 'a', 'sensitive', 'fair', 'andrespectful', 'manner', 'working', 'closely', 'with', 'legal', 'council', 'supervisors', 'and', 'management', 'Identify', 'talent', 'and', 'aspirations', 'of', 'individual', 'employees', 'and', 'provide', 'coaching', 'aimed', 'at', 'motivatingthem', 'to', 'undertake', 'the', 'necessary', 'training', 'required', 'to', 'advance', 'their', 'careers', 'within', 'the', 'company', 'Develop', 'job', 'profiles', 'and', 'source', 'candidates', 'from', 'major', 'job', 'boards', 'select', 'interview', 'and', 'hire', 'employees', 'in', 'collaboration', 'with', 'department', 'managers', 'Plan', 'and', 'develop', 'on', 'the', 'job', 'training', 'programs', 'for', 'line', 'employees', 'and', 'career', 'developmentprograms', 'for', 'managers', 'with', 'a', 'focus', 'on', 'retaining', 'existing', 'talent', 'and', 'reducing', 'employee', 'turnoverAccomplishments', 'Established', 'and', 'maintained', 'proper', 'structures', 'and', 'processes', 'to', 'track', 'time', 'and', 'attendance', 'vacations', 'STD', 'LTD', 'and', 'other', 'activities', 'resulting', 'in', 'efficiency', 'gains', 'of', 'Implemented', 'Payroll', 'and', 'HR', 'policies', 'resulting', 'in', 'annual', 'cost', 'savings', 'of', 'Improved', 'cemployer', 'brandingd', 'by', 'working', 'with', 'the', 'IT', 'department', 'to', 'design', 'develop', 'and', 'launch', 'thecompanys', 'first', 'career', 'siteAMPOAH', 'CONTRACTING', 'CO', 'LTD', 'Hamilton', 'Ontario', 'Manager', 'of', 'Administration', 'AccountingDirected', 'and', 'efficiently', 'managed', 'the', 'Human', 'Resources', 'Accounting', 'and', 'Administration', 'functions', 'for', 'theManufacturing', 'and', 'Distribution', 'divisions', 'of', 'the', 'company', 'reported', 'to', 'the', 'Vice', 'President', 'Provided', 'Human', 'Resources', 'services', 'and', 'support', 'to', 'managers', 'and', 'division', 'heads', 'assisting', 'themto', 'achieve', 'divisional', 'goals', 'and', 'objectives', 'through', 'strategic', 'people', 'management', 'Administered', 'payroll', 'for', 'employees', 'including', 'Benefits', 'Package', 'and', 'RRSP', 'Plans', 'Established', 'an', 'open', 'channel', 'of', 'communication', 'enabling', 'employees', 'quick', 'and', 'easy', 'access', 'toinformation', 'such', 'as', 'Benefits', 'Training', 'and', 'Development', 'and', 'opportunities', 'for', 'career', 'advancement', 'Assessed', 'current', 'and', 'future', 'skills', 'requirements', 'and', 'developed', 'and', 'implemented', 'a', 'competencybased', 'performance', 'management', 'system', 'linking', 'pay', 'to', 'KPI', 'metrics', 'Created', 'a', 'training', 'program', 'to', 'develop', 'employees', 'to', 'meet', 'both', 'core', 'and', 'job', 'competency', 'gaps', 'Negotiated', 'grievances', 'and', 'liaised', 'with', 'Workers', 'Safely', 'Insurance', 'Board', 'for', 'claims', 'processing', 'andcoordinating', 'return', 'to', 'work', 'programContinuescTel', 'E', 'mail', 'info', 'ResumeWorld', 'cawww', 'ResumeWorld', 'caAccomplishments', 'Worked', 'directly', 'with', 'the', 'President', 'to', 'redesign', 'the', 'companys', 'HR', 'Strategy', 'and', 'Payroll', 'Function', 'tosupport', 'salaried', 'and', 'hourly', 'employees', 'Created', 'a', 'job', 'costing', 'model', 'from', 'a', 'manual', 'costing', 'system', 'by', 'analyzing', 'all', 'functions', 'of', 'costingand', 'developing', 'a', 'system', 'to', 'track', 'monitor', 'and', 'cost', 'all', 'stages', 'of', 'production', 'resulting', 'in', 'costsavings', 'of', 'and', 'recovery', 'of', 'from', 'charge', 'back', 'claims', 'for', 'product', 'deficiencies', 'Contributed', 'to', 'a', 'work', 'environment', 'that', 'promoted', 'innovation', 'and', 'peak', 'performance', 'by', 'integratinghigh', 'performance', 'expectations', 'into', 'everyday', 'business', 'practices', 'and', 'using', 'HR', 'policies', 'to', 'supportthe', 'organizations', 'core', 'values', 'and', 'competenciesOptimized', 'administrative', 'procedures', 'by', 'sourcing', 'procuring', 'and', 'implementing', 'automated', 'timeand', 'attendance', 'system', 'resulting', 'in', 'process', 'improvementOSCARDO', 'INC', 'Toronto', 'Ontario', 'Office', 'ManagerContributed', 'to', 'the', 'efficiency', 'of', 'company', 'operations', 'by', 'managing', 'the', 'companys', 'financial', 'portfolio', 'andstaff', 'including', 'all', 'human', 'resources', 'functions', 'Identified', 'cost', 'savings', 'opportunities', 'while', 'managing', 'vendor', 'management', 'functions', 'Liaised', 'effectively', 'with', 'sales', 'staff', 'pertaining', 'to', 'customer', 'credit', 'and', 'service', 'issues', 'Managed', 'accounting', 'functions', 'including', 'accounts', 'receivable', 'accounts', 'payable', 'bankingtransactions', 'budget', 'preparation', 'and', 'financial', 'statements', 'including', 'quarterly', 'financial', 'analysisFREDERICK', 'DICKSON', 'COMPANY', 'INC', 'Don', 'Mills', 'Ontario', 'General', 'ManagerManaged', 'and', 'controlled', 'office', 'and', 'warehouse', 'operations', 'to', 'ensure', 'a', 'high', 'level', 'of', 'operational', 'efficiencyin', 'support', 'of', 'company', 'goals', 'and', 'objectives', 'Managed', 'a', 'staff', 'of', 'including', 'order', 'entry', 'invoice', 'processing', 'accounts', 'receivable', 'accountspayable', 'customer', 'service', 'and', 'warehouse', 'employees', 'Prepared', 'accounting', 'reports', 'including', 'year', 'end', 'documentation', 'and', 'financial', 'statements', 'Ensured', 'the', 'proper', 'application', 'of', 'federal', 'and', 'provincial', 'legislation', 'to', 'payroll', 'including', 'TheCanada', 'Pension', 'Plan', 'The', 'Employment', 'Insurance', 'Act', 'The', 'Income', 'Tax', 'Act', 'EmploymentStandards', 'legislation', 'and', 'Workers', 'Compensation', 'Acts', 'Communicated', 'remittances', 'accounting', 'and', 'year', 'end', 'requirements', 'to', 'various', 'stakeholders', 'Analyzed', 'ways', 'of', 'enhancing', 'management', 'decision', 'making', 'through', 'the', 'application', 'of', 'soundfinancial', 'considerations', 'and', 'workforce', 'planningBANK', 'OF', 'NOVA', 'SCOTIA', 'Don', 'Mills', 'Ontario', 'Contract', 'Analyst', 'Operations', 'and', 'Systems', 'Responsible', 'for', 'protecting', 'the', 'Banks', 'assets', 'by', 'managing', 'systems', 'contracts', 'within', 'and', 'outside', 'theOperations', 'Division', 'in', 'a', 'timely', 'and', 'cost', 'effective', 'manner', 'reported', 'to', 'the', 'Comptroller', 'Operations', 'Minimized', 'the', 'Banks', 'exposure', 'to', 'risk', 'by', 'evaluating', 'contract', 'terms', 'relating', 'to', 'vendor', 'warranties', 'price', 'protection', 'and', 'provisions', 'for', 'cancellation', 'and', 'or', 'remedies', 'in', 'the', 'event', 'of', 'a', 'lawsuit', 'Identified', 'inefficiencies', 'and', 'produced', 'appropriate', 'amendments', 'in', 'accordance', 'with', 'negotiatedagreements', 'between', 'vendor', 'and', 'the', 'Bank', 'reviewed', 'by', 'the', 'legal', 'counsel', 'when', 'requiredEDUCATIONDURHAM', 'COLLEGE', 'Durham', 'Ontario', 'Human', 'Resources', 'Management', 'Diploma', 'YORK', 'UNIVERSITY', 'Toronto', 'Ontario', 'Accounting', 'Personnel', 'Administration', 'Certificate', 'UNIVERSITY', 'COLLEGE', 'Dublin', 'Ireland', 'Business', 'Administration', 'BA', 'COMPUTER', 'SKILLS', 'Microsoft', 'Office', 'Word', 'Excel', 'and', 'PowerPointDataTrak', 'Time', 'and', 'Attendance', 'Software', 'Electronic', 'Data', 'Interchange', 'EDI', 'SoftwareREFERENCES', 'ARE', 'AVAILABLE', 'UPON', 'REQUEST']\n"
     ]
    }
   ],
   "source": [
    "cleaned = clean(sample)\n",
    "print(cleaned)"
   ]
  },
  {
   "cell_type": "code",
   "execution_count": 13,
   "metadata": {},
   "outputs": [
    {
     "name": "stdout",
     "output_type": "stream",
     "text": [
      "Original Record Length: 8202, Unique Count: 76\n"
     ]
    }
   ],
   "source": [
    "print('Original Record Length: %d, Unique Count: %d' %(len(sample), len(unique_words_str(sample))))"
   ]
  },
  {
   "cell_type": "code",
   "execution_count": 14,
   "metadata": {},
   "outputs": [
    {
     "name": "stdout",
     "output_type": "stream",
     "text": [
      "Cleaned Record Length: 923, Unique Count: 51\n"
     ]
    }
   ],
   "source": [
    "print('Cleaned Record Length: %d, Unique Count: %d' %(len(cleaned), len(unique_words_list(cleaned))))"
   ]
  },
  {
   "cell_type": "markdown",
   "metadata": {},
   "source": [
    "# 4. Analysis (Need to start on this now as of Mar 14, 2019)"
   ]
  },
  {
   "cell_type": "code",
   "execution_count": null,
   "metadata": {},
   "outputs": [],
   "source": [
    "col = ['Category', 'Resume']\n",
    "df = df[col]\n",
    "df = df[pd.notnull(df['Resume'])]\n",
    "df.columns = ['Category', 'Resume']\n",
    "df['category_id'] = df['Category'].factorize()[0]\n",
    "category_id_df = df[['Category', 'category_id']].drop_duplicates().sort_values('category_id')\n",
    "category_to_id = dict(category_id_df.values)\n",
    "id_to_category = dict(category_id_df[['category_id', 'Category']].values)\n",
    "df"
   ]
  },
  {
   "cell_type": "code",
   "execution_count": null,
   "metadata": {},
   "outputs": [],
   "source": [
    "import matplotlib.pyplot as plt\n",
    "fig = plt.figure(figsize=(10,8))\n",
    "df.groupby('Category').Resume.count().plot.bar(ylim=0)\n",
    "plt.show()"
   ]
  },
  {
   "cell_type": "code",
   "execution_count": null,
   "metadata": {},
   "outputs": [],
   "source": []
  },
  {
   "cell_type": "code",
   "execution_count": null,
   "metadata": {},
   "outputs": [],
   "source": [
    "from sklearn.feature_extraction.text import TfidfVectorizer\n",
    "tfidf = TfidfVectorizer(sublinear_tf=True, min_df=5, norm='l2', encoding='latin-1', ngram_range=(1, 2), stop_words='english')\n",
    "features = tfidf.fit_transform(df.Resume).toarray()\n",
    "labels = df.category_id\n",
    "features.shape"
   ]
  },
  {
   "cell_type": "code",
   "execution_count": null,
   "metadata": {},
   "outputs": [],
   "source": [
    "from sklearn.feature_selection import chi2\n",
    "import numpy as np\n",
    "N = 2\n",
    "for Category, category_id in sorted(category_to_id.items()):\n",
    "  features_chi2 = chi2(features, labels == category_id)\n",
    "  indices = np.argsort(features_chi2[0])\n",
    "  feature_names = np.array(tfidf.get_feature_names())[indices]\n",
    "  unigrams = [v for v in feature_names if len(v.split(' ')) == 1]\n",
    "  bigrams = [v for v in feature_names if len(v.split(' ')) == 2]\n",
    "  print(\"# '{}':\".format(Category))\n",
    "  print(\"  . Most correlated unigrams:\\n. {}\".format('\\n. '.join(unigrams[-N:])))\n",
    "  print(\"  . Most correlated bigrams:\\n. {}\".format('\\n. '.join(bigrams[-N:])))"
   ]
  },
  {
   "cell_type": "code",
   "execution_count": null,
   "metadata": {},
   "outputs": [],
   "source": []
  },
  {
   "cell_type": "code",
   "execution_count": null,
   "metadata": {},
   "outputs": [],
   "source": []
  },
  {
   "cell_type": "code",
   "execution_count": null,
   "metadata": {},
   "outputs": [],
   "source": [
    "from sklearn.model_selection import train_test_split\n",
    "from sklearn.feature_extraction.text import CountVectorizer\n",
    "from sklearn.feature_extraction.text import TfidfTransformer\n",
    "from sklearn.naive_bayes import MultinomialNB\n",
    "X_train, X_test, y_train, y_test = train_test_split(df['Resume'], df['Category'], random_state = 0)\n",
    "count_vect = CountVectorizer()\n",
    "X_train_counts = count_vect.fit_transform(X_train)\n",
    "tfidf_transformer = TfidfTransformer()\n",
    "X_train_tfidf = tfidf_transformer.fit_transform(X_train_counts)\n",
    "clf = MultinomialNB().fit(X_train_tfidf, y_train)"
   ]
  },
  {
   "cell_type": "code",
   "execution_count": null,
   "metadata": {},
   "outputs": [],
   "source": [
    "software_engineer = '''﻿Irshad Ali\n",
    "Email Address: irshadali18@gmail.com,irshadali@outlook.com \n",
    "Cell: 0321-7588568\n",
    "\n",
    "Objective\n",
    "I am looking forward to join a progressive organization. I am Strong team builder and leader. I have high level of personal morals and integrity. I am Goal oriented, self-motivated and committed to the successful outcome of the project. I am willing to work hard and have a great desire to learn.\n",
    "Summary\n",
    "    • Since March 2007, have 6 years plus of extensive hands on experience of website development.\n",
    "    • An experienced team lead and team player with excellent communication and interpersonal skills who has the ability to work independently under pressure.\n",
    "    • Currently working as Senior Software Engineer/Team Lead at Hashe Computer Solutions.\n",
    "    • Masters in 2007 from the University College of Information Technology, Lahore, Pakistan.\n",
    "Skills\n",
    "Languages/Web Development\n",
    "PHP, C# .Net, JavaScript, HTML, CSS, Java, XML, SQL\n",
    "Frameworks\n",
    "AJAX, Zend, Symfony2,  CodeIgniter\n",
    "Open Source\n",
    "Wordpress, Joomla, XCart, CSCart\n",
    "Databases\n",
    "MySQL, Oracle\n",
    "Tools\n",
    "Netbeans, Dreamweaver, SqlYog, NavicoSoft, MicroOlap\n",
    "\n",
    "\n",
    "Experience\n",
    "Hashe Computer Solution, Lahore, Pakistan \n",
    "Senior Software Engineer / Team Lead\n",
    "(March 2008 – To date)\n",
    "Responsibilities include team management, direct client communication and software development.\n",
    "Mechtechnologies, Lahore, Pakistan \n",
    "Software Engineer\n",
    "(March 2007 – February 2008)\n",
    "\n",
    "Projects\n",
    "Freight Ordering System – Hashe Computer Solutions\n",
    "Role:\n",
    "    • Development Lead\n",
    "Tools:\n",
    "    • PHP, MySQL, Ajax, JQuery , Web Services\n",
    "Details:\n",
    "    • This is a web based system, which provides an online competitive freight quotes within zip code range from best courier & transport companies of the region with favorable discounts and transit days. Later shipment can be booked out of these quotes and tracked though website. Companies can add / manage their locations, product catalog for swift use of the system.\n",
    "    • This application works with SMC3 to acquire shipment rates for given locations and then apply different accessorial and fuel charges added by admin to calculate final shipment rates.\n",
    "    • Using the back office application, admin can set different accessorial, discounts, fuel charges, and FAK classes for each company and carrier. Manage the Sales Representatives & this commission for different companies & Carriers.\n",
    "    • Comprehensive report system provides reports about the shipment, carrier, customer, sale representative commission and billing reports. \n",
    "    • Complete Accounting System.\n",
    "\n",
    "http://www.freightanywhere.com\n",
    "http://www.tech-logistics.com\n",
    "\n",
    "Online Golf Course Booking System – Hashe Computer Solutions\n",
    "Role:\n",
    "    • Application Developer\n",
    "Tools:\n",
    "    • PHP, MySQL, Ajax, JQuery, Web Services\n",
    "Details:\n",
    "    • This is a web based system, which provides golfers an easy way to use website to search, compare, and book golf tee times for free. With numerous golf courses available for play in most areas.\n",
    "\n",
    "http://www.back9booking.com\n",
    "\n",
    "Ecommerce Shopping System – Hashe Computer Solutions\n",
    "Role:\n",
    "    • Application Developer/Team Lead\n",
    "Tools:\n",
    "    • PHP, MySQL, JQuery, Zend\n",
    "Details:\n",
    "Complete ecommerce shopping system with following features\n",
    "    • Administration system to easily update all product details, prices, pictures, stock details and other information online.\n",
    "    • Manage Customer Accounts\n",
    "    • Manage Wish list\n",
    "    • Customer Reviews & Rating\n",
    "    • Manage categories and products\n",
    "    • Manage Product options and related products\n",
    "    • Advanced pricing algorithms\n",
    "    • Order and Invoice history\n",
    "    • Take payments online using PayPal\n",
    "    • Shopping cart system to allow easy purchase of products\n",
    "    • Automatic email notification of orders\n",
    "    • Full checkout procedure\n",
    "    • Fast and friendly quick search and advanced search features\n",
    "    • Reports of site visits, pages viewed, most viewed products, most ordered products and most viewed categories\n",
    "http://www.tcig.co.uk\n",
    "\n",
    "Free Home Listing – Hashe Computer Solutions\n",
    "Role:\n",
    "    • Application Developer\n",
    "Tools:\n",
    "    • PHP, MySQL, JQuery, Codeigniter\n",
    "Details:\n",
    "This is a property portal with three access level\n",
    "    • Customer Login\n",
    "        ◦ Search Properties by State And City, Key words and Zip Code with option in different miles radius i.e. search all properties having zip code 03055 and within 10 miles radius around it.  \n",
    "        ◦ Register as Customer\n",
    "        ◦ Manage their Listings\n",
    "        ◦ Add/Edit property\n",
    "        ◦ Add/Edit/Delete Properties Images\n",
    "        ◦ Delete Properties\n",
    "    • Agent Login\n",
    "        ◦ Add/Edit property\n",
    "        ◦ Add/Edit/Delete Properties Images\n",
    "        ◦ Delete Properties\n",
    "    • Admin login\n",
    "        ◦ Manage Customers (Add/Edit/Delete/Active/Inactive)\n",
    "        ◦ Manage Customer Packages\n",
    "        ◦ Manage Agents (Add/Edit/Delete/Active/Inactive)\n",
    "        ◦ Manage Listings (Add/Edit/Delete/Active/Inactive)\n",
    "http://demo.hashe.com/freehomelistings/\n",
    "\n",
    "Rockingham Acres – Hashe Computer Solutions\n",
    "Role:\n",
    "    • Application Developer\n",
    "Tools:\n",
    "    • PHP, MySQL, JQuery\n",
    "Details:\n",
    "This is an Online Flower Store has\n",
    "    • Online Shopping Cart\n",
    "    • Word Press Blog\n",
    "http://www.rockinghamacres.com/\n",
    "\n",
    "\n",
    "Third Coast Collection – Hashe Computer Solutions\n",
    "Role:\n",
    "    • Application Developer\n",
    "Tools:\n",
    "    • PHP, MySQL, JQuery\n",
    "Details:\n",
    "This website has\n",
    "    • Online Shopping Cart\n",
    "    • Authorized .Net Payment Integration\n",
    "    • Word Press Blog\n",
    "http://www.thirdcoastcollection.com/\n",
    "\n",
    "PPA-Office Management System – Hashe Computer Solutions\n",
    "Role:\n",
    "    • Application Developer\n",
    "Tools:\n",
    "    • PHP, MySQL, JQuery\n",
    "Details:\n",
    "PPA (Pakistan Progressive Associate) is  licensed  by  Ministry   of  Labor,  Manpower  and  Overseas   Employment ,   Government of  Pakistan for recruitment  of  manpower.  So PPA-Office Management System is developed to manage & integrate all PPA internal processes (i.e. client, contracts, jobs, job seeker registration, resume bank, recruitment process, and visa & departure process). We split this big system into following modules.\n",
    "    • Office Workflow Management System Administration: This application will allow the administration to\n",
    "        ◦ Manage Companies, Contracts\n",
    "        ◦ Application Configurations\n",
    "        ◦ Manage invoices\n",
    "        ◦ Manage administrative expenses\n",
    "            ▪ Advertisement costs\n",
    "            ▪ Courier charges\n",
    "            ▪ Misc. charges to be posted\n",
    "    • Office Workflow Management System: This application will automate the recruitment process of PPA administration and will implement all the business processes hence allowing straight through processing of jobs. This application will have three separate work flows\n",
    "        ◦ Pre Processing – Jobs management, Resume management and data entry, short listing, interview scheduling and execution, selection of candidates and forwarding for post-processing. \n",
    "        ◦ Post Processing\n",
    "        ◦ Archiving\n",
    "    • Online Client / Candidate Portal: This portal will allow\n",
    "        ◦ PPA administration to manage advertisement jobs\n",
    "        ◦ PPA affiliated companies to:\n",
    "            ▪ Login into the system\n",
    "            ▪ Add jobs\n",
    "            ▪ View list of candidates forwarded by PPA administration, short list them, add notes\n",
    "            ▪ Browse/Search (if allowed) resume database, create resume lists, add notes on resumes\n",
    "        ◦ Potential candidates to:\n",
    "            ▪ Register\n",
    "            ▪ Add resumes\n",
    "            ▪ Search for jobs\n",
    "    • System will allow the printing of all documents required during the execution of a case. System will allow three types of print\n",
    "        ◦ Printing with PPA logo\n",
    "        ◦ Printing without PPA logo – to be printed on PPA letter head\n",
    "        ◦ Custom printing\n",
    "\n",
    "NetSignNews.com – Hashe Computer Solutions\n",
    "Role:\n",
    "    • Development Lead\n",
    "Tools:\n",
    "    • PHP, MySQL\n",
    "Details:\n",
    "    • Net Sign News is a specialized news channel for with hearing disabilities. NetSignNews.com is an online news portal for NetSignNews. News videos are streamed on demand using FLV format files. This application has a power administration utility using which administrator can manage the contents being published on the website.\n",
    "\n",
    "VegaPrint.co.uk – VegaSoft Technologies\n",
    "Role:\n",
    "    • Development Lead (Freelance)\n",
    "Tools:\n",
    "    • PHP, MySQL\n",
    "Details:\n",
    "    • This is print media service provider’s website. Here user can order print media products by paying online payment through PayPal, users can also track there orders online. \n",
    "    • Using the back office application, admin can add different products, services, special offers, shipment charges, manage users and orders. \n",
    "\n",
    "Bug Tracking – Mechtechnologies\n",
    "Role:\n",
    "    • Development Team Member\n",
    "Tools:\n",
    "    • PHP, MySQL\n",
    "Details:\n",
    "This is a web based application which allows software developers to track new bugs, prioritize and assign bugs to team members, generate bug reports, send email messages between users, attach files, customize the account according to their special needs and more.\n",
    "\n",
    "Academic Projects\n",
    "Student Information System - MIT Final Project\n",
    "    • Student Information System superior University Lahore is a web based application developed in PHP and MySQL as database.\n",
    "\n",
    "\n",
    "Education\n",
    "Punjab University College of Information Technology, Lahore, Pakistan \n",
    "MSC Information Technology \n",
    "Year: 2007\n",
    "\n",
    "Certifications\n",
    "Microsoft Technologies (Exam: 70-480)\n",
    "Microsoft Certified Professional \n",
    "Year: 2013\n",
    "Microsoft Technologies (C# .Net)\n",
    "EVS Lahore \n",
    "Year: 2013\n",
    "\n",
    "Interests\n",
    "Computer Gaming\n",
    "References\n",
    "References can be provided on request.'''\n",
    "print(clf.predict(count_vect.transform([software_engineer])))"
   ]
  },
  {
   "cell_type": "code",
   "execution_count": null,
   "metadata": {},
   "outputs": [],
   "source": [
    "job_profile = '''﻿\n",
    "Jyoti Jha Domicile State: Jharkhand, India\n",
    "Female,  Languages Known: English, Hindi, Bengali and Maithili\n",
    "CAREER OBJECTIVE\n",
    "To work with an organization that provides a competitive environment so that I can explore my potentials and make a difference.\n",
    "PROFILE SUMMARY\n",
    "· Competent professional with 30 months of experience in Project advisory & consulting and Sales and marketing\n",
    "· Comprehensive understanding of various government schemes and policies related to agriculture and rural development\n",
    "· Working experience in developing project feasibilities and DPR’s, field survey, evaluation studies\n",
    "· Working experience of handling a regional office and organizing stakeholders workshops\n",
    "· Comprehensive understanding of agricultural production and marketing system, value chain of the different agricultural commodities in India\n",
    "· Designing & implementing marketing plans for augmenting the business volume by enhancing brand visibility\n",
    "· Driving sales initiatives to achieve business goals & conducting competitor analysis to track the market trends\n",
    "PROFESSIONAL EXPERIENCE\n",
    "Global AgriSystem Pvt Ltd\n",
    "Manager July 2015-Present (5 months)\n",
    "\n",
    " • Data Analysis • Feasibility and Market Studies\n",
    "Key Expertise • Stakeholder Mapping & Interaction • Project Report preparation\n",
    " • Project management  \n",
    "1. Asian Development Bank’s Agribusiness Infrastructure Development Investment Programme: Transaction Advisory Services (April, 2015 onwards)\n",
    "This is project is to assist the Government structure the project through a bid process for selection and engagement of private sector partner for investment in the 2 Integrated Value Chains in Bihar.\n",
    "· Stakeholders mapping and interaction for investment & organized investors meet covering 100 participants from across India.\n",
    "· Development of various models for PPP investment\n",
    "2. Asian Development Bank’s Agribusiness Infrastructure Development Investment Programme: Baseline Survey & Post Survey Activities\n",
    "This project is aimed to develop backward links to the production areas through contract farming and producer companies, capacity building to strengthen technical and managerial skills along the value chain.\n",
    "· Co-ordination with all Project Management Unit, Government of Bihar\n",
    "· Questionnaire designing, Pilot Survey, Data Analysis and Report writing\n",
    "3. World Bank’s Project for ‘Bihar Food Processing Policies and its implications’ (May 2015-June 2015)\n",
    "The Project aimed to do sectorial analysis of food processing sector in Bihar benchmarking it with the other developed states Review of the regulatory and policy environment to identify policy/regulatory barriers/incentives to investments in food processing and thereof suggesting policy reforms for food processing policy in Bihar.\n",
    "· Data research, selection of the stakeholders to be interviewed, questionnaire, conducting field survey, meeting with stakeholders, analysis of data & report writing, etc.\n",
    "4. Marketing Strategies for Organic Produce in Sikkim, Government of Sikkim (December 2015 onwards)\n",
    "The project aims to develop strategies and action plan for selected commodities in Sikkim for Government of Sikkim.\n",
    "· Studied the market of national, international for these commodities\n",
    "· Analyzing and planning the strategies for developing market strategies\n",
    "5. Managed regional office operations at Patna, Bihar\n",
    "6. Prepared technical proposals for applying in various Private, Government and International Development Agency projects.\n",
    "Global AgriSystem Pvt Ltd\n",
    "Email: jyotijha.niam11@gmail.com Ph. No. +91-7042837028\n",
    " \n",
    "Jyoti Jha Domicile State: Jharkhand, India\n",
    "Female,  Languages Known: English, Hindi, Bengali and Maithili\n",
    "Assistant Manager May 2014-June 2015 (13 months)\n",
    "\n",
    " • Data Analysis • Feasibility and Market Studies\n",
    "Key Expertise • Stakeholder Mapping & Interaction • Project Report preparation\n",
    " • Project management  \n",
    "7. Preparation of Commodity Profiles and Conducting Value Chain Studies for Selected Commodities (Maharashtra Agricultural Competitiveness Project) (May 2014-June 2015)\n",
    "This project was to prepare commodity profile for identified 25 commodities and doing value chain analysis thereof of the 10 priority crop in Maharashtra.\n",
    "• Prepared and designed the commodity profiles’ methodology and survey tools for identified stakeholders.\n",
    "• Analyzed survey result & findings and prepared commodities profiles for 25 crops.\n",
    "8. Impact Evaluation of Sugar Development Fund, Department of Food and Public Distribution, Ministry of Consumer affairs, Food & Public Distribution (Jam 2015-March 2015) It was an impact evaluation study to study the progress and impact of SDF loan on sugar mills across all sugar growing states of India\n",
    "• Data analysis and report preparation\n",
    "9. Impact Evaluation and Socio economic study of Bt Cotton in India, Department of Agriculture & Co-operation, Ministry of Agriculture (Dec 2015-June 2015)\n",
    "This was study conducted in 9 cotton growing states to evaluate the impact of Bt cotton on farmer’s socio economic condition, environment, agriculture economy of India.\n",
    "• Stakeholders consultation, questionnaire drafting, pilot survey, data analysis and preparation of report\n",
    "10. Impact Evaluation of Agricultural Marketing Infrastructure Grading and Standardization, Directorate of Marketing and Inspection (April 2014-September 2014)\n",
    "The project aimed to undertake comprehensive study of various types of projects sanctioned under\n",
    "the Scheme in selected States. The study was focused on impact of scheme on reduction in Post-Harvest Losses, Value Addition, Increase in Farmers Income\n",
    "• Information analysis, design survey and research methodology design, questionnaires for different stakeholders, Questionnaires pilot testing, field survey monitoring and coordination, primary data analysis with excel and SPSS, report writing.\n",
    "11. Prepared technical proposals for applying in various Government and International Development Agency projects.\n",
    "Monsanto India Ltd.\n",
    "Territory Sales Manager at Bhavnagar April 2013-April 3014 (12 months)\n",
    "\n",
    "Key Expertise • Stakeholder Mapping & Interaction • Sales & Marketing • Demand Estimation Survey & Analysis\n",
    "  \n",
    "INTERNSHIP\n",
    "BASF April 2012-June 2012 (3 months)\n",
    " \n",
    "Jyoti Jha Domicile State: Jharkhand, India\n",
    "Female,                                                                                                                 Languages Known: English, Hindi, Bengali and Maithili\n",
    "\n",
    " \n",
    "Project undertaken To study farmers acceptance level for the BASF package in Cucurbits (West Bengal)\n",
    "Key learning:\n",
    "• Understood the agro chemical market by analyzing the competitors in the same segment. • Understood the buying behavior of farmers for agrochemical products.\n",
    "• Analyzed the importance of channel partner in making marketing strategies in agrochemical industry.\n",
    "• Prepared strategies to increase sales\n",
    "• Prepared new product launch strategy for a new agrochemical.\n",
    " \n",
    "\n",
    "Live Project\n",
    "Philips India June 2012-August 2012 (3 months)\n",
    "\n",
    " Project undertaken Customer Delight for low and high involvement products\n",
    "• Understood the customer preferences and behavior for electronic goods both pre and post-sale of goods.\n",
    "   \n",
    "EDUCATION  \n",
    "\n",
    "Degree Institute/University Year Percentage\n",
    "PGDABM NIAM, Jaipur (Rajasthan) 2013 73.30%\n",
    "B.Sc.(Agriculture) Bidhan Chandra Krishi Vishwavidayalaya, Nadia (West Bengal) 2011 82.40%\n",
    "Sr. Secondary Motilal Nehru Public School, Jamshedpur (Jharkhand) 2007 67.20%\n",
    "Secondary Motilal Nehru Public School, Jamshedpur (Jharkhand) 2005 74.4%\n",
    "\n",
    "POSITION OF RESPONSIBILITY\n",
    "NIAM, Jaipur Core member of Placement Committee and Library committee (2013)\n",
    " \n",
    "\n",
    "EXTRACURRICULAR ACTIVITIES\n",
    "Social Events and\n",
    "Academic Competitions • Participated in Global Agri connect held at IARI, Delhi, where I interacted with the eminent\n",
    "personalities in Agri-business sector (2012)\n",
    "• Participated in debate at Jaipur National University, Jaipur (2012)\n",
    "• Participated in the Workshop on Export Import in Jaipuria University, Jaipur (2012)\n",
    "• Participated in changing tomorrow an International Youth Cultural event based on “Thought\n",
    "Leadership” held at Jaipur (2011)\n",
    "• Worked as a volunteer under NSS at Nadia, West Bengal (2011)\n",
    "Hobbies • Reading novels both fiction and non-fiction '''\n",
    "\n",
    "print(clf.predict(count_vect.transform([job_profile])))\n"
   ]
  },
  {
   "cell_type": "code",
   "execution_count": null,
   "metadata": {},
   "outputs": [],
   "source": [
    "job_profile = '''﻿\n",
    "www downloadmela com satheesh mobile email seeking middle\n",
    "level assignment in human resource management hrm with a\n",
    "growth oriented organization professional synopsis a dynamic professional \n",
    "with  years of experience in hrm broadly in recruitment performance\n",
    "appraisal compensation training and development policy procedures \n",
    "employee engagement activates general administration and personnel\n",
    "management iso auditing and employee relation currently associated\n",
    "with thakkar group of companies as assistant manager hr borivli\n",
    "west proficient in planning strategizing and implementing abilities\n",
    "with demonstrated success in handling hr related issues as well as\n",
    "administrative issues expertise in handling hr functions entailing \n",
    "recruitment training grievance issues and managing vendors adept\n",
    "at handling day to day administrative activities in coordination with \n",
    "internal external departments for smoothen business operations an \n",
    "effective communicator with excellent relationship building \n",
    "interpersonal skills strong analytical problem solving and \n",
    "organizational ability posses flexible and details orientated\n",
    "attitude organisational experience tenure company name designation september \n",
    "till date thakkar group of companies assistant manager hr april  december  wire and wireless india ltd an essel group \n",
    "company zee network sr executive hr january  april  raffles solutions pvt ltd thakral \n",
    "group of companies executive hr january  december  perfect careers consultancy coordinator\n",
    "hr core competencies hr functions recruitment compensation coordinating manpower planning \n",
    "recruitment induction exit interviews ensuring culture fit developing introducing new \n",
    "recruitment policy as per staffing projections handling salary negotiation payroll\n",
    "system and compensation administration handling joining formalities inductions employee records and \n",
    "file generation assigning employee no new system and policies www downloadmela com defining plans\n",
    "polices and procedures for gather operational efficiency and employee development developing updating and implementing compensation plans rewards recognition scheme hr policies and communicating them across the organization at all level maintaining an employee master data along with their leave travel administration counseling grievance handling of the employee to maintain healthy work environment and facilitating employee satisfaction hr survey and community development activities performance appraisal handling performance management system and identify scope for enhancing them initiated reward recognition program incentive system and training and development based on the pms identify the talent enhance them for the benefit of an employee as well as organization training and development conducted managerial technical training to enhance to enhance the managerial and soft skills of the employee employee engagement activities introduced knowledge sharing forum k share to help employees in increasing their technical knowledge these interactive forums enable employees to share their technical knowledge with the rest of the teams and it s also a good time out from their regular work schedule it also acts as a platform to discuss new technologies thus benefiting both employees and company in many ways organize employee events birthday parties sports and games and family get together etc introduced r xc xaflexion a platform where the new joiners can interact with the existing employees and get to know each other while having fun general administration coordinating with chartered accountant for tax computation coordinating with employees to ease the tax filing process coordinating with consultant for all the shop and establishment related work client audit management iso auditing iso contribution following the iso procedures for the quality maintenance filing the hr dept activities as per the iso documentation to ensure quality work employee relations this role includes maintaining a good relation with all the employees in case employees are facing some problem helping them out and counseling them if employees are finding it difficult to work with their team members finding out what are the reasons and solving them if it becomes difficult to handle at first level then escalating the matter to next level notable avhievements received appreciation letter from management clients as well as employees for day to day interaction and coordination successfully completed shop and establishment for raffles solutions pvt ltd at mumbai www downloadmela com first rank holder in final year in college qualifications persuing masters of business administration hr from icfai university trichur  diploma in business administration from icfai university trichur  masters of commerce from mumbai university  bachelors of management studies from mumbai university personal details residential address date of birth th june  nationality indian marital status married english hindi gujarati marathi malayalam languages known www downloadmela com\n",
    ".'''\n",
    "print(clf.predict(count_vect.transform([job_profile])))"
   ]
  },
  {
   "cell_type": "code",
   "execution_count": null,
   "metadata": {},
   "outputs": [],
   "source": [
    "from sklearn.linear_model import LogisticRegression\n",
    "from sklearn.ensemble import RandomForestClassifier\n",
    "from sklearn.svm import LinearSVC\n",
    "from sklearn.model_selection import cross_val_score\n",
    "models = [\n",
    "    RandomForestClassifier(n_estimators=200, max_depth=3, random_state=0),\n",
    "    LinearSVC(),\n",
    "    MultinomialNB(),\n",
    "    LogisticRegression(random_state=0),\n",
    "]\n",
    "CV = 5\n",
    "cv_df = pd.DataFrame(index=range(CV * len(models)))\n",
    "entries = []\n",
    "for model in models:\n",
    "  model_name = model.__class__.__name__\n",
    "  accuracies = cross_val_score(model, features, labels, scoring='accuracy', cv=CV)\n",
    "  for fold_idx, accuracy in enumerate(accuracies):\n",
    "    entries.append((model_name, fold_idx, accuracy))\n",
    "cv_df = pd.DataFrame(entries, columns=['model_name', 'fold_idx', 'accuracy'])\n",
    "import seaborn as sns\n",
    "sns.boxplot(x='model_name', y='accuracy', data=cv_df)\n",
    "sns.stripplot(x='model_name', y='accuracy', data=cv_df, \n",
    "              size=8, jitter=True, edgecolor=\"gray\", linewidth=2)\n",
    "plt.show()"
   ]
  },
  {
   "cell_type": "code",
   "execution_count": null,
   "metadata": {},
   "outputs": [],
   "source": [
    "cv_df.groupby('model_name').accuracy.mean()"
   ]
  },
  {
   "cell_type": "code",
   "execution_count": null,
   "metadata": {},
   "outputs": [],
   "source": [
    "model = LinearSVC()\n",
    "X_train, X_test, y_train, y_test, indices_train, indices_test = train_test_split(features, labels, df.index, test_size=0.33, random_state=0)\n",
    "model.fit(X_train, y_train)\n",
    "y_pred = model.predict(X_test)\n",
    "from sklearn.metrics import confusion_matrix\n",
    "conf_mat = confusion_matrix(y_test, y_pred)\n",
    "fig, ax = plt.subplots(figsize=(10,10))\n",
    "sns.heatmap(conf_mat, annot=True, fmt='d',\n",
    "            xticklabels=category_id_df.Category.values, yticklabels=category_id_df.Category.values)\n",
    "plt.ylabel('Actual')\n",
    "plt.xlabel('Predicted')\n",
    "plt.show()"
   ]
  },
  {
   "cell_type": "code",
   "execution_count": null,
   "metadata": {
    "scrolled": false
   },
   "outputs": [],
   "source": [
    "from sklearn import metrics\n",
    "print(metrics.classification_report(y_test, y_pred, target_names=df['Category'].unique()))"
   ]
  }
 ],
 "metadata": {
  "kernelspec": {
   "display_name": "Python 3",
   "language": "python",
   "name": "python3"
  },
  "language_info": {
   "codemirror_mode": {
    "name": "ipython",
    "version": 3
   },
   "file_extension": ".py",
   "mimetype": "text/x-python",
   "name": "python",
   "nbconvert_exporter": "python",
   "pygments_lexer": "ipython3",
   "version": "3.7.1"
  }
 },
 "nbformat": 4,
 "nbformat_minor": 2
}
