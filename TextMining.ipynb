{
 "cells": [
  {
   "cell_type": "markdown",
   "metadata": {},
   "source": [
    "# 1. Imports"
   ]
  },
  {
   "cell_type": "code",
   "execution_count": 1,
   "metadata": {},
   "outputs": [],
   "source": [
    "import re\n",
    "\n",
    "#import nltk\n",
    "#Uncomment for first run to download datasets.\n",
    "#nltk.download()\n",
    "\n",
    "import numpy as np\n",
    "import pandas as pd\n",
    "\n",
    "import matplotlib.pyplot as plt\n",
    "import seaborn as sns\n",
    "\n",
    "from io import StringIO\n",
    "\n",
    "from sklearn.model_selection import cross_val_score\n",
    "from sklearn.model_selection import train_test_split\n",
    "\n",
    "from sklearn.feature_extraction.text import CountVectorizer\n",
    "from sklearn.feature_extraction.text import TfidfVectorizer\n",
    "from sklearn.feature_extraction.text import TfidfTransformer\n",
    "\n",
    "from sklearn.linear_model import LogisticRegression\n",
    "from sklearn.ensemble import RandomForestClassifier\n",
    "from sklearn.naive_bayes import MultinomialNB\n",
    "from sklearn.svm import LinearSVC\n",
    "\n",
    "from sklearn.decomposition import TruncatedSVD\n",
    "\n",
    "from sklearn import metrics"
   ]
  },
  {
   "cell_type": "markdown",
   "metadata": {},
   "source": [
    "# 2. Utilty and Common Functions (Please document sufficiently)"
   ]
  },
  {
   "cell_type": "code",
   "execution_count": 2,
   "metadata": {},
   "outputs": [],
   "source": [
    "# Given an input string, this method performs the folowing operations:\n",
    "# 1. Mask string fragments like \\x<nn>\n",
    "# 2. Mask string fragments for escape sequences like \\a \\b \\t \\n\n",
    "# 3. Mask all numbers\n",
    "# 4. Create a list of all the words containing letters from a-z and A-Z\n",
    "# 5. Return the final filtered list of words.\n",
    "\n",
    "def clean(text):\n",
    "    # Mask string fragments like \\x<nn>\n",
    "    filtered_string = re.sub(r'\\\\x[a-z]{0,2}[0-9]{0,2}', \"\", text)\n",
    "    \n",
    "    # Mask string fragments for escape sequences like \\a \\b \\t \\n\n",
    "    filtered_string = re.sub(r'\\\\a+', \"\", filtered_string)\n",
    "    filtered_string = re.sub(r'\\\\b+', \"\", filtered_string)\n",
    "    filtered_string = re.sub(r'\\\\t+', \" \", filtered_string)\n",
    "    filtered_string = re.sub(r'\\\\n+', \" \", filtered_string)\n",
    "    \n",
    "    # Mask all numbers\n",
    "    filtered_string = re.sub(r'[0-9]+', \"\", filtered_string)\n",
    "    \n",
    "    # Remove single letter words.\n",
    "    filtered_string = mask_single_letters(filtered_string)\n",
    "    \n",
    "    # Create a list of all the words containing letters from a-z and A-Z\n",
    "    filtered_list = re.findall(r\"\\b([a-zA-Z]+)\\b\", filtered_string, re.M)\n",
    "    \n",
    "    # Return the final filtered List\n",
    "    return filtered_list"
   ]
  },
  {
   "cell_type": "code",
   "execution_count": 3,
   "metadata": {},
   "outputs": [],
   "source": [
    "# Give an input string this method replaces all the single letter words with empty string,\n",
    "# basically removing them from the resultant string.\n",
    "\n",
    "def mask_single_letters(text):\n",
    "    filtered_string = re.sub(r'\\b([a-zA-Z]{1})\\b', \"\", text)\n",
    "    return filtered_string"
   ]
  },
  {
   "cell_type": "code",
   "execution_count": 4,
   "metadata": {},
   "outputs": [],
   "source": [
    "# Provided a string, this method creates and returns a set containing all the unique words\n",
    "# in the passed string.\n",
    "\n",
    "def unique_words_str(text):\n",
    "    result = set([])\n",
    "    for word in text.split():\n",
    "        result.add(word)\n",
    "    \n",
    "    return result"
   ]
  },
  {
   "cell_type": "code",
   "execution_count": 5,
   "metadata": {},
   "outputs": [],
   "source": [
    "# Provided a list of strings, this method creates and returns a set containing all the unique words\n",
    "# considering all the strings in the passed list.\n",
    "\n",
    "def unique_words_list(data):\n",
    "    result = set([])\n",
    "    for text in data:\n",
    "        result.update(unique_words_str(text))\n",
    "    \n",
    "    return result"
   ]
  },
  {
   "cell_type": "markdown",
   "metadata": {},
   "source": [
    "# 3. Read Dataset and Clean"
   ]
  },
  {
   "cell_type": "code",
   "execution_count": 6,
   "metadata": {},
   "outputs": [],
   "source": [
    "df = pd.read_csv(\"resume_data.csv\")"
   ]
  },
  {
   "cell_type": "code",
   "execution_count": 7,
   "metadata": {
    "scrolled": true
   },
   "outputs": [
    {
     "data": {
      "text/html": [
       "<div>\n",
       "<style scoped>\n",
       "    .dataframe tbody tr th:only-of-type {\n",
       "        vertical-align: middle;\n",
       "    }\n",
       "\n",
       "    .dataframe tbody tr th {\n",
       "        vertical-align: top;\n",
       "    }\n",
       "\n",
       "    .dataframe thead th {\n",
       "        text-align: right;\n",
       "    }\n",
       "</style>\n",
       "<table border=\"1\" class=\"dataframe\">\n",
       "  <thead>\n",
       "    <tr style=\"text-align: right;\">\n",
       "      <th></th>\n",
       "      <th>ID</th>\n",
       "      <th>Category</th>\n",
       "      <th>Resume</th>\n",
       "    </tr>\n",
       "  </thead>\n",
       "  <tbody>\n",
       "    <tr>\n",
       "      <th>505</th>\n",
       "      <td>506</td>\n",
       "      <td>Health &amp; Fitness</td>\n",
       "      <td>b'Francis Preve\\n1111 Any Street, New York, NY...</td>\n",
       "    </tr>\n",
       "    <tr>\n",
       "      <th>203</th>\n",
       "      <td>204</td>\n",
       "      <td>Information Technology</td>\n",
       "      <td>b\"SOFTWARE ENGINEER Resume Sample www.timesres...</td>\n",
       "    </tr>\n",
       "    <tr>\n",
       "      <th>569</th>\n",
       "      <td>570</td>\n",
       "      <td>Agricultural</td>\n",
       "      <td>b'Habitat Restoration Specialist Resume Templa...</td>\n",
       "    </tr>\n",
       "    <tr>\n",
       "      <th>59</th>\n",
       "      <td>60</td>\n",
       "      <td>Designing</td>\n",
       "      <td>b'Brian Brown\\n\\n999 Main Street\\nAny Town, NY...</td>\n",
       "    </tr>\n",
       "    <tr>\n",
       "      <th>223</th>\n",
       "      <td>224</td>\n",
       "      <td>Information Technology</td>\n",
       "      <td>b'Gary White\\nData analyst\\nAREAS OF EXPERTISE...</td>\n",
       "    </tr>\n",
       "    <tr>\n",
       "      <th>764</th>\n",
       "      <td>765</td>\n",
       "      <td>Automobile</td>\n",
       "      <td>b'Abhilasha Sinha\\n\\nB.Tech (Hons.) Automobile...</td>\n",
       "    </tr>\n",
       "    <tr>\n",
       "      <th>91</th>\n",
       "      <td>92</td>\n",
       "      <td>Designing</td>\n",
       "      <td>b'David Cole\\n\\nweb developer\\n843-388-2405 \\x...</td>\n",
       "    </tr>\n",
       "    <tr>\n",
       "      <th>161</th>\n",
       "      <td>162</td>\n",
       "      <td>Managment</td>\n",
       "      <td>b'MR\\n99 Example Street\\n\\nN A M E\\n+60 12\\n\\n...</td>\n",
       "    </tr>\n",
       "    <tr>\n",
       "      <th>956</th>\n",
       "      <td>957</td>\n",
       "      <td>Engineering</td>\n",
       "      <td>b'ALEX SMITH\\n128 Chemical Drive\\nThunder Bay ...</td>\n",
       "    </tr>\n",
       "    <tr>\n",
       "      <th>406</th>\n",
       "      <td>407</td>\n",
       "      <td>Advocate</td>\n",
       "      <td>b'NAME:\\n\\nJohn Russell Hicks\\n\\nBIRTHPLACE:\\n...</td>\n",
       "    </tr>\n",
       "  </tbody>\n",
       "</table>\n",
       "</div>"
      ],
      "text/plain": [
       "      ID                Category  \\\n",
       "505  506        Health & Fitness   \n",
       "203  204  Information Technology   \n",
       "569  570            Agricultural   \n",
       "59    60               Designing   \n",
       "223  224  Information Technology   \n",
       "764  765              Automobile   \n",
       "91    92               Designing   \n",
       "161  162               Managment   \n",
       "956  957             Engineering   \n",
       "406  407                Advocate   \n",
       "\n",
       "                                                Resume  \n",
       "505  b'Francis Preve\\n1111 Any Street, New York, NY...  \n",
       "203  b\"SOFTWARE ENGINEER Resume Sample www.timesres...  \n",
       "569  b'Habitat Restoration Specialist Resume Templa...  \n",
       "59   b'Brian Brown\\n\\n999 Main Street\\nAny Town, NY...  \n",
       "223  b'Gary White\\nData analyst\\nAREAS OF EXPERTISE...  \n",
       "764  b'Abhilasha Sinha\\n\\nB.Tech (Hons.) Automobile...  \n",
       "91   b'David Cole\\n\\nweb developer\\n843-388-2405 \\x...  \n",
       "161  b'MR\\n99 Example Street\\n\\nN A M E\\n+60 12\\n\\n...  \n",
       "956  b'ALEX SMITH\\n128 Chemical Drive\\nThunder Bay ...  \n",
       "406  b'NAME:\\n\\nJohn Russell Hicks\\n\\nBIRTHPLACE:\\n...  "
      ]
     },
     "execution_count": 7,
     "metadata": {},
     "output_type": "execute_result"
    }
   ],
   "source": [
    "df.sample(10)"
   ]
  },
  {
   "cell_type": "markdown",
   "metadata": {},
   "source": [
    "> ### Drop all attributes except Resume"
   ]
  },
  {
   "cell_type": "code",
   "execution_count": 8,
   "metadata": {},
   "outputs": [],
   "source": [
    "df = df['Resume']"
   ]
  },
  {
   "cell_type": "code",
   "execution_count": 9,
   "metadata": {},
   "outputs": [
    {
     "name": "stdout",
     "output_type": "stream",
     "text": [
      "Dataset Size: 1219\n"
     ]
    }
   ],
   "source": [
    "print(\"Dataset Size: %d\" %(df.shape[0]))"
   ]
  },
  {
   "cell_type": "code",
   "execution_count": 10,
   "metadata": {},
   "outputs": [
    {
     "data": {
      "text/plain": [
       "450    b'Jenny Smith\\nJsmith1234@utk.edu\\nCurrent Add...\n",
       "476    b'R o b yn Y o u n g\\n15 Applegarth St. \\xef\\x...\n",
       "467    b\"School Business Manager Resume\\n\\nGrover Qui...\n",
       "919    b'Miles Peters\\n1 Main Street, New Cityland, C...\n",
       "504    b'Office Assistant Resume\\nSeattle, WA 98117\\n...\n",
       "Name: Resume, dtype: object"
      ]
     },
     "execution_count": 10,
     "metadata": {},
     "output_type": "execute_result"
    }
   ],
   "source": [
    "df.sample(5)"
   ]
  },
  {
   "cell_type": "markdown",
   "metadata": {},
   "source": [
    "> ### Pick one sample record"
   ]
  },
  {
   "cell_type": "code",
   "execution_count": 11,
   "metadata": {},
   "outputs": [
    {
     "name": "stdout",
     "output_type": "stream",
     "text": [
      "b'RESUME WORLD INC.\\n1200 Markham Road, Suite 108, Toronto, Ontario M1H 3C3\\nTel: (416) 438.3606 / E-mail: info@resumworld.ca\\nCAREER PROFILE\\nA Human Resources & Payroll Manager with over 15 years of progressive experience augmented by a\\nstrong post-secondary background in Human Resources, Accounting and Business Administration.\\nExperienced in Payroll Administration, Benefits/Compensation Administration, Talent/Performance\\nManagement, Recruitment/Selection, Training/Development, HR Policy and Organizational Design,\\nContract Negotiation, Job Costing Analysis, People Management, Progress Improvement, and\\nStrategic Planning. Sound knowledge of Labour Relations, Occupational Health & Safety, Pay Equity\\nand other related labour laws. Proven ability to function as a Strategic HR Business Partner and develop\\nand implement successful human resources management strategies to support corporate mandate.\\nCreative and innovative thinker with effective human resources management and goal setting abilities\\ncombined with superior leadership, team building, communication, interpersonal, and presentation skills.\\nSelf-motivated with the ability to excel in a fast-paced environment; communicate effectively at all levels;\\nmanage competing priorities; and adapt readily to new challenges.\\n\\nPROFESSIONAL EXPERIENCE\\nCONSUMER PRODUCTS, Brampton, Ontario\\nMar 2006 \\xe2\\x80\\x93 Present\\nHuman Resources & Payroll Manager\\nFunction as a HR Generalist, responsible for Payroll Administration, Benefits/Compensation, Training &\\nDevelopment, Recruitment/Selection and Employee Relations, reporting to the AGM/Controller\\n\\xef\\x82\\xb7 Manage and process bi-weekly payroll for 200 salaried/hourly employees using Ceridian Insync\\n\\xef\\x82\\xb7 Coach managers on the process of evaluating employees, setting goals, conducting objective\\nperformance reviews, and recognizing and awarding performance to improve productivity\\n\\xef\\x82\\xb7 Handle employee terminations, grievance and other difficult situations in a sensitive, fair and\\nrespectful manner, working closely with legal council, supervisors and management\\n\\xef\\x82\\xb7 Identify talent and aspirations of individual employees and provide coaching aimed at motivating\\nthem to undertake the necessary training required to advance their careers within the company\\n\\xef\\x82\\xb7 Develop job profiles and source candidates from major job boards; select, interview and hire 76\\nemployees in collaboration with department managers\\n\\xef\\x82\\xb7 Plan and develop on-the-job training programs for line employees and career development\\nprograms for managers with a focus on retaining existing talent and reducing employee turnover\\nAccomplishments\\n\\xef\\x82\\xb7 Established and maintained proper structures and processes to track time and attendance,\\nvacations, STD/LTD and other activities resulting in efficiency gains of 33%\\n\\xef\\x82\\xb7 Implemented Payroll and HR policies resulting in annual cost savings of $237,000\\n\\xef\\x82\\xb7 Improved \\xe2\\x80\\x9cemployer branding\\xe2\\x80\\x9d by working with the IT department to design, develop and launch the\\ncompany\\xe2\\x80\\x99s first career site\\nAMPOAH CONTRACTING CO., LTD., Hamilton, Ontario\\n2000 \\xe2\\x80\\x93 2005\\nManager of Administration & Accounting\\nDirected and efficiently managed the Human Resources, Accounting and Administration functions for the\\nManufacturing and Distribution divisions of the company, reported to the Vice-President\\n\\xef\\x82\\xb7 Provided Human Resources services and support to managers and division heads, assisting them\\nto achieve divisional goals and objectives through strategic people management\\n\\xef\\x82\\xb7 Administered payroll for 1,710 employees, including Benefits Package and RRSP Plans\\n\\xef\\x82\\xb7 Established an open channel of communication enabling employees quick and easy access to\\ninformation such as Benefits, Training and Development and opportunities for career advancement\\n\\xef\\x82\\xb7 Assessed current and future skills requirements and developed and implemented a competencybased performance management system linking pay to KPI metrics\\n\\xef\\x82\\xb7 Created a training program to develop employees to meet both core and job competency gaps\\n\\xef\\x82\\xb7 Negotiated grievances and liaised with Workers Safely Insurance Board for claims processing and\\ncoordinating return to work program\\nContinues\\xe2\\x80\\xa6\\n\\n\\x0cTel: 416)438.3606 / E-mail: info@ResumeWorld.ca\\n\\nwww.ResumeWorld.ca\\n\\nAccomplishments\\n\\xef\\x82\\xb7 Worked directly with the President to redesign the company\\xe2\\x80\\x99s HR Strategy and Payroll Function to\\nsupport 1,710 salaried and hourly employees\\n\\xef\\x82\\xb7 Created a job costing model from a manual costing system by analyzing all functions of costing\\nand developing a system to track, monitor and cost all stages of production, resulting in cost\\nsavings of $750,000 and recovery of $250,000 from charge back claims for product deficiencies\\n\\xef\\x82\\xb7 Contributed to a work environment that promoted innovation and peak performance by integrating\\nhigh-performance expectations into everyday business practices and using HR policies to support\\nthe organization\\xe2\\x80\\x99s core values and competencies\\n\\xef\\x82\\xb7\\nOptimized administrative procedures by sourcing, procuring and implementing automated time\\nand attendance system resulting in 23% process improvement\\nOSCARDO INC., Toronto, Ontario\\n1998 - 2000\\nOffice Manager\\nContributed to the efficiency of company operations by managing the company\\xe2\\x80\\x99s financial portfolio and\\nstaff, including all human resources functions\\n\\xef\\x82\\xb7 Identified cost savings opportunities while managing vendor management functions\\n\\xef\\x82\\xb7 Liaised effectively with sales staff pertaining to customer credit and service issues\\n\\xef\\x82\\xb7 Managed accounting functions, including accounts receivable, accounts payable, banking\\ntransactions, budget preparation, and financial statements including quarterly financial analysis\\nFREDERICK DICKSON COMPANY INC., Don Mills, Ontario\\n1989 - 1997\\nGeneral Manager\\nManaged and controlled office and warehouse operations to ensure a high level of operational efficiency\\nin support of company goals and objectives\\n\\xef\\x82\\xb7 Managed a staff of 43, including order entry, invoice processing, accounts receivable, accounts\\npayable, customer service and warehouse employees\\n\\xef\\x82\\xb7 Prepared accounting reports, including year-end documentation and financial statements\\n\\xef\\x82\\xb7 Ensured the proper application of federal and provincial legislation to payroll including: The\\nCanada Pension Plan, The Employment Insurance Act, The Income Tax Act, Employment\\nStandards legislation, and Worker\\xe2\\x80\\x99s Compensation Acts\\n\\xef\\x82\\xb7 Communicated remittances, accounting and year end requirements to various stakeholders\\n\\xef\\x82\\xb7 Analyzed ways of enhancing management decision-making through the application of sound\\nfinancial considerations and workforce planning\\nBANK OF NOVA SCOTIA, Don Mills, Ontario\\n1984 \\xe2\\x80\\x93 1989\\nContract Analyst (Operations and Systems)\\nResponsible for protecting the Bank\\xe2\\x80\\x99s assets by managing systems contracts within and outside the\\nOperations Division in a timely and cost effective manner, reported to the Comptroller, Operations\\n\\xef\\x82\\xb7 Minimized the Banks exposure to risk by evaluating contract terms relating to vendor warranties,\\nprice protection and provisions for cancellation and/or remedies in the event of a lawsuit\\n\\xef\\x82\\xb7 Identified inefficiencies and produced appropriate amendments in accordance with negotiated\\nagreements between vendor and the Bank; reviewed by the legal counsel when required\\nEDUCATION\\nDURHAM COLLEGE, Durham, Ontario - Human Resources Management Diploma, 2003\\nYORK UNIVERSITY, Toronto, Ontario \\xe2\\x80\\x93 Accounting/Personnel Administration Certificate, 2000\\nUNIVERSITY COLLEGE, Dublin, Ireland \\xe2\\x80\\x93 Business Administration (BA), 1997\\nCOMPUTER SKILLS\\n\\xef\\x82\\xb7 Microsoft Office 2007 - Word, Excel, and PowerPoint\\n\\xef\\x82\\xb7\\nDataTrak Time and Attendance Software; Electronic Data Interchange (EDI) Software\\nREFERENCES ARE AVAILABLE UPON REQUEST'\n"
     ]
    }
   ],
   "source": [
    "sample = df.iloc[10]\n",
    "print(sample)"
   ]
  },
  {
   "cell_type": "markdown",
   "metadata": {},
   "source": [
    "> ### Cleanup"
   ]
  },
  {
   "cell_type": "code",
   "execution_count": 12,
   "metadata": {},
   "outputs": [
    {
     "name": "stdout",
     "output_type": "stream",
     "text": [
      "['RESUME', 'WORLD', 'INC', 'Markham', 'Road', 'Suite', 'Toronto', 'Ontario', 'MH', 'Tel', 'mail', 'info', 'resumworld', 'ca', 'CAREER', 'PROFILE', 'Human', 'Resources', 'Payroll', 'Manager', 'with', 'over', 'years', 'of', 'progressive', 'experience', 'augmented', 'by', 'strong', 'post', 'secondary', 'background', 'in', 'Human', 'Resources', 'Accounting', 'and', 'Business', 'Administration', 'Experienced', 'in', 'Payroll', 'Administration', 'Benefits', 'Compensation', 'Administration', 'Talent', 'Performance', 'Management', 'Recruitment', 'Selection', 'Training', 'Development', 'HR', 'Policy', 'and', 'Organizational', 'Design', 'Contract', 'Negotiation', 'Job', 'Costing', 'Analysis', 'People', 'Management', 'Progress', 'Improvement', 'and', 'Strategic', 'Planning', 'Sound', 'knowledge', 'of', 'Labour', 'Relations', 'Occupational', 'Health', 'Safety', 'Pay', 'Equity', 'and', 'other', 'related', 'labour', 'laws', 'Proven', 'ability', 'to', 'function', 'as', 'Strategic', 'HR', 'Business', 'Partner', 'and', 'develop', 'and', 'implement', 'successful', 'human', 'resources', 'management', 'strategies', 'to', 'support', 'corporate', 'mandate', 'Creative', 'and', 'innovative', 'thinker', 'with', 'effective', 'human', 'resources', 'management', 'and', 'goal', 'setting', 'abilities', 'combined', 'with', 'superior', 'leadership', 'team', 'building', 'communication', 'interpersonal', 'and', 'presentation', 'skills', 'Self', 'motivated', 'with', 'the', 'ability', 'to', 'excel', 'in', 'fast', 'paced', 'environment', 'communicate', 'effectively', 'at', 'all', 'levels', 'manage', 'competing', 'priorities', 'and', 'adapt', 'readily', 'to', 'new', 'challenges', 'PROFESSIONAL', 'EXPERIENCE', 'CONSUMER', 'PRODUCTS', 'Brampton', 'Ontario', 'Mar', 'Present', 'Human', 'Resources', 'Payroll', 'Manager', 'Function', 'as', 'HR', 'Generalist', 'responsible', 'for', 'Payroll', 'Administration', 'Benefits', 'Compensation', 'Training', 'Development', 'Recruitment', 'Selection', 'and', 'Employee', 'Relations', 'reporting', 'to', 'the', 'AGM', 'Controller', 'Manage', 'and', 'process', 'bi', 'weekly', 'payroll', 'for', 'salaried', 'hourly', 'employees', 'using', 'Ceridian', 'Insync', 'Coach', 'managers', 'on', 'the', 'process', 'of', 'evaluating', 'employees', 'setting', 'goals', 'conducting', 'objective', 'performance', 'reviews', 'and', 'recognizing', 'and', 'awarding', 'performance', 'to', 'improve', 'productivity', 'Handle', 'employee', 'terminations', 'grievance', 'and', 'other', 'difficult', 'situations', 'in', 'sensitive', 'fair', 'and', 'respectful', 'manner', 'working', 'closely', 'with', 'legal', 'council', 'supervisors', 'and', 'management', 'Identify', 'talent', 'and', 'aspirations', 'of', 'individual', 'employees', 'and', 'provide', 'coaching', 'aimed', 'at', 'motivating', 'them', 'to', 'undertake', 'the', 'necessary', 'training', 'required', 'to', 'advance', 'their', 'careers', 'within', 'the', 'company', 'Develop', 'job', 'profiles', 'and', 'source', 'candidates', 'from', 'major', 'job', 'boards', 'select', 'interview', 'and', 'hire', 'employees', 'in', 'collaboration', 'with', 'department', 'managers', 'Plan', 'and', 'develop', 'on', 'the', 'job', 'training', 'programs', 'for', 'line', 'employees', 'and', 'career', 'development', 'programs', 'for', 'managers', 'with', 'focus', 'on', 'retaining', 'existing', 'talent', 'and', 'reducing', 'employee', 'turnover', 'Accomplishments', 'Established', 'and', 'maintained', 'proper', 'structures', 'and', 'processes', 'to', 'track', 'time', 'and', 'attendance', 'vacations', 'STD', 'LTD', 'and', 'other', 'activities', 'resulting', 'in', 'efficiency', 'gains', 'of', 'Implemented', 'Payroll', 'and', 'HR', 'policies', 'resulting', 'in', 'annual', 'cost', 'savings', 'of', 'Improved', 'cemployer', 'brandingd', 'by', 'working', 'with', 'the', 'IT', 'department', 'to', 'design', 'develop', 'and', 'launch', 'the', 'companys', 'first', 'career', 'site', 'AMPOAH', 'CONTRACTING', 'CO', 'LTD', 'Hamilton', 'Ontario', 'Manager', 'of', 'Administration', 'Accounting', 'Directed', 'and', 'efficiently', 'managed', 'the', 'Human', 'Resources', 'Accounting', 'and', 'Administration', 'functions', 'for', 'the', 'Manufacturing', 'and', 'Distribution', 'divisions', 'of', 'the', 'company', 'reported', 'to', 'the', 'Vice', 'President', 'Provided', 'Human', 'Resources', 'services', 'and', 'support', 'to', 'managers', 'and', 'division', 'heads', 'assisting', 'them', 'to', 'achieve', 'divisional', 'goals', 'and', 'objectives', 'through', 'strategic', 'people', 'management', 'Administered', 'payroll', 'for', 'employees', 'including', 'Benefits', 'Package', 'and', 'RRSP', 'Plans', 'Established', 'an', 'open', 'channel', 'of', 'communication', 'enabling', 'employees', 'quick', 'and', 'easy', 'access', 'to', 'information', 'such', 'as', 'Benefits', 'Training', 'and', 'Development', 'and', 'opportunities', 'for', 'career', 'advancement', 'Assessed', 'current', 'and', 'future', 'skills', 'requirements', 'and', 'developed', 'and', 'implemented', 'competencybased', 'performance', 'management', 'system', 'linking', 'pay', 'to', 'KPI', 'metrics', 'Created', 'training', 'program', 'to', 'develop', 'employees', 'to', 'meet', 'both', 'core', 'and', 'job', 'competency', 'gaps', 'Negotiated', 'grievances', 'and', 'liaised', 'with', 'Workers', 'Safely', 'Insurance', 'Board', 'for', 'claims', 'processing', 'and', 'coordinating', 'return', 'to', 'work', 'program', 'Continues', 'cTel', 'mail', 'info', 'ResumeWorld', 'ca', 'www', 'ResumeWorld', 'ca', 'Accomplishments', 'Worked', 'directly', 'with', 'the', 'President', 'to', 'redesign', 'the', 'companys', 'HR', 'Strategy', 'and', 'Payroll', 'Function', 'to', 'support', 'salaried', 'and', 'hourly', 'employees', 'Created', 'job', 'costing', 'model', 'from', 'manual', 'costing', 'system', 'by', 'analyzing', 'all', 'functions', 'of', 'costing', 'and', 'developing', 'system', 'to', 'track', 'monitor', 'and', 'cost', 'all', 'stages', 'of', 'production', 'resulting', 'in', 'cost', 'savings', 'of', 'and', 'recovery', 'of', 'from', 'charge', 'back', 'claims', 'for', 'product', 'deficiencies', 'Contributed', 'to', 'work', 'environment', 'that', 'promoted', 'innovation', 'and', 'peak', 'performance', 'by', 'integrating', 'high', 'performance', 'expectations', 'into', 'everyday', 'business', 'practices', 'and', 'using', 'HR', 'policies', 'to', 'support', 'the', 'organizations', 'core', 'values', 'and', 'competencies', 'Optimized', 'administrative', 'procedures', 'by', 'sourcing', 'procuring', 'and', 'implementing', 'automated', 'time', 'and', 'attendance', 'system', 'resulting', 'in', 'process', 'improvement', 'OSCARDO', 'INC', 'Toronto', 'Ontario', 'Office', 'Manager', 'Contributed', 'to', 'the', 'efficiency', 'of', 'company', 'operations', 'by', 'managing', 'the', 'companys', 'financial', 'portfolio', 'and', 'staff', 'including', 'all', 'human', 'resources', 'functions', 'Identified', 'cost', 'savings', 'opportunities', 'while', 'managing', 'vendor', 'management', 'functions', 'Liaised', 'effectively', 'with', 'sales', 'staff', 'pertaining', 'to', 'customer', 'credit', 'and', 'service', 'issues', 'Managed', 'accounting', 'functions', 'including', 'accounts', 'receivable', 'accounts', 'payable', 'banking', 'transactions', 'budget', 'preparation', 'and', 'financial', 'statements', 'including', 'quarterly', 'financial', 'analysis', 'FREDERICK', 'DICKSON', 'COMPANY', 'INC', 'Don', 'Mills', 'Ontario', 'General', 'Manager', 'Managed', 'and', 'controlled', 'office', 'and', 'warehouse', 'operations', 'to', 'ensure', 'high', 'level', 'of', 'operational', 'efficiency', 'in', 'support', 'of', 'company', 'goals', 'and', 'objectives', 'Managed', 'staff', 'of', 'including', 'order', 'entry', 'invoice', 'processing', 'accounts', 'receivable', 'accounts', 'payable', 'customer', 'service', 'and', 'warehouse', 'employees', 'Prepared', 'accounting', 'reports', 'including', 'year', 'end', 'documentation', 'and', 'financial', 'statements', 'Ensured', 'the', 'proper', 'application', 'of', 'federal', 'and', 'provincial', 'legislation', 'to', 'payroll', 'including', 'The', 'Canada', 'Pension', 'Plan', 'The', 'Employment', 'Insurance', 'Act', 'The', 'Income', 'Tax', 'Act', 'Employment', 'Standards', 'legislation', 'and', 'Workers', 'Compensation', 'Acts', 'Communicated', 'remittances', 'accounting', 'and', 'year', 'end', 'requirements', 'to', 'various', 'stakeholders', 'Analyzed', 'ways', 'of', 'enhancing', 'management', 'decision', 'making', 'through', 'the', 'application', 'of', 'sound', 'financial', 'considerations', 'and', 'workforce', 'planning', 'BANK', 'OF', 'NOVA', 'SCOTIA', 'Don', 'Mills', 'Ontario', 'Contract', 'Analyst', 'Operations', 'and', 'Systems', 'Responsible', 'for', 'protecting', 'the', 'Banks', 'assets', 'by', 'managing', 'systems', 'contracts', 'within', 'and', 'outside', 'the', 'Operations', 'Division', 'in', 'timely', 'and', 'cost', 'effective', 'manner', 'reported', 'to', 'the', 'Comptroller', 'Operations', 'Minimized', 'the', 'Banks', 'exposure', 'to', 'risk', 'by', 'evaluating', 'contract', 'terms', 'relating', 'to', 'vendor', 'warranties', 'price', 'protection', 'and', 'provisions', 'for', 'cancellation', 'and', 'or', 'remedies', 'in', 'the', 'event', 'of', 'lawsuit', 'Identified', 'inefficiencies', 'and', 'produced', 'appropriate', 'amendments', 'in', 'accordance', 'with', 'negotiated', 'agreements', 'between', 'vendor', 'and', 'the', 'Bank', 'reviewed', 'by', 'the', 'legal', 'counsel', 'when', 'required', 'EDUCATION', 'DURHAM', 'COLLEGE', 'Durham', 'Ontario', 'Human', 'Resources', 'Management', 'Diploma', 'YORK', 'UNIVERSITY', 'Toronto', 'Ontario', 'Accounting', 'Personnel', 'Administration', 'Certificate', 'UNIVERSITY', 'COLLEGE', 'Dublin', 'Ireland', 'Business', 'Administration', 'BA', 'COMPUTER', 'SKILLS', 'Microsoft', 'Office', 'Word', 'Excel', 'and', 'PowerPoint', 'DataTrak', 'Time', 'and', 'Attendance', 'Software', 'Electronic', 'Data', 'Interchange', 'EDI', 'Software', 'REFERENCES', 'ARE', 'AVAILABLE', 'UPON', 'REQUEST']\n"
     ]
    }
   ],
   "source": [
    "cleaned = clean(sample)\n",
    "print(cleaned)"
   ]
  },
  {
   "cell_type": "code",
   "execution_count": 13,
   "metadata": {},
   "outputs": [
    {
     "name": "stdout",
     "output_type": "stream",
     "text": [
      "Original Record Length: 8202, Unique Count: 564\n"
     ]
    }
   ],
   "source": [
    "print('Original Record Length: %d, Unique Count: %d' %(len(sample), len(unique_words_str(sample))))"
   ]
  },
  {
   "cell_type": "code",
   "execution_count": 14,
   "metadata": {},
   "outputs": [
    {
     "name": "stdout",
     "output_type": "stream",
     "text": [
      "Cleaned Record Length: 956, Unique Count: 517\n"
     ]
    }
   ],
   "source": [
    "print('Cleaned Record Length: %d, Unique Count: %d' %(len(cleaned), len(unique_words_list(cleaned))))"
   ]
  },
  {
   "cell_type": "code",
   "execution_count": 15,
   "metadata": {},
   "outputs": [
    {
     "name": "stdout",
     "output_type": "stream",
     "text": [
      "{'decision', 'MH', 'savings', 'strategic', 'existing', 'Handle', 'Prepared', 'advance', 'Systems', 'competency', 'Hamilton', 'values', 'preparation', 'the', 'claims', 'expectations', 'accounting', 'profiles', 'Implemented', 'DICKSON', 'setting', 'objective', 'monitor', 'enabling', 'progressive', 'performance', 'PROFILE', 'Present', 'Analyst', 'develop', 'ResumeWorld', 'issues', 'boards', 'IT', 'linking', 'warehouse', 'DataTrak', 'laws', 'Payroll', 'over', 'working', 'necessary', 'Assessed', 'program', 'divisional', 'maintained', 'manage', 'Minimized', 'Labour', 'strong', 'goal', 'considerations', 'ca', 'Health', 'implement', 'risk', 'track', 'divisions', 'presentation', 'integrating', 'Strategic', 'CONSUMER', 'first', 'from', 'Vice', 'Administered', 'effective', 'return', 'required', 'retaining', 'provincial', 'ways', 'Banks', 'with', 'advancement', 'coordinating', 'procedures', 'quarterly', 'YORK', 'Compensation', 'related', 'thinker', 'planning', 'controlled', 'efficiently', 'functions', 'warranties', 'Board', 'that', 'Office', 'innovation', 'remittances', 'sales', 'by', 'Accomplishments', 'job', 'cemployer', 'meet', 'developing', 'support', 'REQUEST', 'building', 'awarding', 'Function', 'requirements', 'deficiencies', 'respectful', 'core', 'implementing', 'Time', 'bi', 'General', 'competencybased', 'Managed', 'terms', 'Income', 'Acts', 'legislation', 'statements', 'Software', 'Durham', 'division', 'management', 'experience', 'CAREER', 'Selection', 'successful', 'year', 'Controller', 'easy', 'produced', 'making', 'order', 'heads', 'Operations', 'interview', 'Organizational', 'strategies', 'secondary', 'Recruitment', 'challenges', 'team', 'Continues', 'of', 'hourly', 'administrative', 'sourcing', 'or', 'EDI', 'work', 'such', 'weekly', 'Pension', 'EDUCATION', 'Directed', 'candidates', 'Canada', 'recognizing', 'Relations', 'augmented', 'fast', 'assets', 'open', 'Safety', 'Costing', 'provide', 'Plans', 'application', 'objectives', 'conducting', 'source', 'Progress', 'directly', 'Interchange', 'salaried', 'annual', 'Contributed', 'effectively', 'brandingd', 'ensure', 'AMPOAH', 'abilities', 'years', 'process', 'aimed', 'developed', 'Negotiated', 'timely', 'sensitive', 'Certificate', 'leadership', 'through', 'end', 'activities', 'opportunities', 'production', 'difficult', 'Division', 'companys', 'Employee', 'achieve', 'costing', 'NOVA', 'evaluating', 'banking', 'Provided', 'manner', 'closely', 'improvement', 'Road', 'implemented', 'managing', 'goals', 'for', 'Improved', 'Dublin', 'INC', 'career', 'Insync', 'charge', 'various', 'President', 'Responsible', 'HR', 'Administration', 'Electronic', 'payroll', 'Equity', 'competing', 'Ceridian', 'development', 'Accounting', 'processing', 'The', 'Develop', 'grievances', 'responsible', 'COLLEGE', 'fair', 'level', 'resumworld', 'service', 'reports', 'accordance', 'REFERENCES', 'access', 'to', 'product', 'future', 'in', 'them', 'automated', 'communicate', 'select', 'OF', 'EXPERIENCE', 'collaboration', 'Diploma', 'ARE', 'combined', 'system', 'terminations', 'PRODUCTS', 'Design', 'Negotiation', 'policies', 'outside', 'counsel', 'provisions', 'procuring', 'Attendance', 'between', 'accounts', 'when', 'other', 'adapt', 'site', 'agreements', 'reviewed', 'using', 'employee', 'Created', 'paced', 'processes', 'event', 'skills', 'analysis', 'labour', 'into', 'everyday', 'Optimized', 'FREDERICK', 'Don', 'function', 'as', 'RESUME', 'within', 'Distribution', 'Worked', 'operations', 'competencies', 'People', 'ability', 'Benefits', 'Tel', 'priorities', 'programs', 'Tax', 'knowledge', 'Contract', 'turnover', 'AVAILABLE', 'Toronto', 'Insurance', 'staff', 'Manufacturing', 'RRSP', 'attendance', 'financial', 'pertaining', 'COMPUTER', 'PowerPoint', 'assisting', 'mail', 'vacations', 'reviews', 'proper', 'contracts', 'structures', 'legal', 'human', 'undertake', 'Proven', 'Generalist', 'at', 'quick', 'COMPANY', 'liaised', 'inefficiencies', 'channel', 'current', 'manual', 'recovery', 'protection', 'careers', 'Coach', 'SKILLS', 'Personnel', 'and', 'motivated', 'Job', 'coaching', 'productivity', 'Analyzed', 'vendor', 'SCOTIA', 'business', 'workforce', 'BANK', 'resulting', 'cancellation', 'price', 'an', 'Word', 'innovative', 'Bank', 'AGM', 'managed', 'their', 'Talent', 'resources', 'line', 'promoted', 'Resources', 'LTD', 'documentation', 'gains', 'company', 'receivable', 'lawsuit', 'Experienced', 'stakeholders', 'talent', 'Identify', 'CONTRACTING', 'info', 'situations', 'portfolio', 'WORLD', 'customer', 'Act', 'Ireland', 'Partner', 'Occupational', 'new', 'aspirations', 'individual', 'Safely', 'CO', 'organizations', 'payable', 'UNIVERSITY', 'UPON', 'focus', 'hire', 'Workers', 'people', 'design', 'practices', 'budget', 'Manage', 'metrics', 'mandate', 'Ontario', 'all', 'analyzing', 'systems', 'motivating', 'negotiated', 'Human', 'Training', 'excel', 'model', 'Liaised', 'environment', 'exposure', 'Excel', 'redesign', 'invoice', 'Self', 'transactions', 'interpersonal', 'Business', 'enhancing', 'Established', 'Brampton', 'launch', 'Mills', 'Strategy', 'Improvement', 'OSCARDO', 'DURHAM', 'Ensured', 'Communicated', 'sound', 'major', 'improve', 'back', 'Comptroller', 'PROFESSIONAL', 'on', 'while', 'protecting', 'training', 'levels', 'superior', 'KPI', 'Standards', 'information', 'including', 'managers', 'both', 'efficiency', 'Planning', 'high', 'credit', 'Performance', 'entry', 'contract', 'background', 'council', 'services', 'BA', 'remedies', 'www', 'Package', 'post', 'STD', 'reporting', 'grievance', 'Management', 'pay', 'Identified', 'office', 'reported', 'Suite', 'Sound', 'Employment', 'employees', 'time', 'cost', 'stages', 'operational', 'Policy', 'Pay', 'amendments', 'federal', 'relating', 'gaps', 'corporate', 'peak', 'Microsoft', 'Analysis', 'Data', 'Manager', 'Creative', 'reducing', 'Plan', 'Development', 'department', 'cTel', 'appropriate', 'readily', 'communication', 'supervisors', 'Mar', 'Markham'}\n"
     ]
    }
   ],
   "source": [
    "print(unique_words_list(cleaned))"
   ]
  },
  {
   "cell_type": "markdown",
   "metadata": {},
   "source": [
    "# 4. Analysis"
   ]
  },
  {
   "cell_type": "markdown",
   "metadata": {},
   "source": [
    "> ### Clean the entire dataset"
   ]
  },
  {
   "cell_type": "code",
   "execution_count": 16,
   "metadata": {},
   "outputs": [],
   "source": [
    "cleaned_resume = []\n",
    "for resume in df:\n",
    "    cleaned = clean(resume)\n",
    "    cleaned_resume.append(' '.join(cleaned))"
   ]
  },
  {
   "cell_type": "markdown",
   "metadata": {},
   "source": [
    "> ### Perform TFIDF"
   ]
  },
  {
   "cell_type": "code",
   "execution_count": 17,
   "metadata": {},
   "outputs": [],
   "source": [
    "vectorizer = TfidfVectorizer(sublinear_tf=True,\n",
    "                             min_df=5,\n",
    "                             norm='l2',\n",
    "                             encoding='latin-1',\n",
    "                             ngram_range=(1, 2),\n",
    "                             stop_words='english')"
   ]
  },
  {
   "cell_type": "markdown",
   "metadata": {},
   "source": [
    "> ### Extract Feature Matrix"
   ]
  },
  {
   "cell_type": "code",
   "execution_count": 18,
   "metadata": {},
   "outputs": [],
   "source": [
    "features = vectorizer.fit_transform(cleaned_resume)"
   ]
  },
  {
   "cell_type": "markdown",
   "metadata": {},
   "source": [
    "> ### Print a sample"
   ]
  },
  {
   "cell_type": "code",
   "execution_count": 19,
   "metadata": {},
   "outputs": [
    {
     "name": "stdout",
     "output_type": "stream",
     "text": [
      "  (0, 10746)\t0.0286111721772\n",
      "  (0, 18887)\t0.0483312488461\n",
      "  (0, 14904)\t0.0433324537172\n",
      "  (0, 2247)\t0.0323347833593\n",
      "  (0, 2630)\t0.0476715695886\n",
      "  (0, 8137)\t0.070093658146\n",
      "  (0, 10003)\t0.0475717716842\n",
      "  (0, 8870)\t0.0807149836419\n",
      "  (0, 3666)\t0.0211256938275\n",
      "  (0, 1175)\t0.0932243817773\n",
      "  (0, 10110)\t0.0912037689199\n",
      "  (0, 14357)\t0.0640906522981\n",
      "  (0, 9514)\t0.0896078117067\n",
      "  (0, 17140)\t0.0730860282014\n",
      "  (0, 18256)\t0.0530250610552\n",
      "  (0, 15643)\t0.0353863890601\n",
      "  (0, 14550)\t0.056437508345\n",
      "  (0, 952)\t0.0258923520882\n",
      "  (0, 8153)\t0.0360088866709\n",
      "  (0, 9472)\t0.0921872171762\n",
      "  (0, 7684)\t0.0227536222392\n",
      "  (0, 18111)\t0.0476715695886\n",
      "  (0, 2029)\t0.113878072103\n",
      "  (0, 540)\t0.0337460058339\n",
      "  (0, 7730)\t0.0244520937915\n",
      "  :\t:\n",
      "  (0, 11834)\t0.056437508345\n",
      "  (0, 6783)\t0.0495272992679\n",
      "  (0, 6788)\t0.051872120313\n",
      "  (0, 1260)\t0.0510203072207\n",
      "  (0, 11464)\t0.0482483679682\n",
      "  (0, 12562)\t0.0528137560001\n",
      "  (0, 2028)\t0.0510203072207\n",
      "  (0, 14851)\t0.056437508345\n",
      "  (0, 11)\t0.0538664151393\n",
      "  (0, 4589)\t0.0495272992679\n",
      "  (0, 13442)\t0.0268720534919\n",
      "  (0, 22580)\t0.0341059446634\n",
      "  (0, 9480)\t0.0476715695886\n",
      "  (0, 7144)\t0.0510203072207\n",
      "  (0, 11996)\t0.0482483679682\n",
      "  (0, 6475)\t0.0502426627944\n",
      "  (0, 1811)\t0.0232120444119\n",
      "  (0, 18036)\t0.0471297507957\n",
      "  (0, 3839)\t0.0363170990396\n",
      "  (0, 3627)\t0.0538664151393\n",
      "  (0, 15669)\t0.0528137560001\n",
      "  (0, 17153)\t0.056437508345\n",
      "  (0, 6773)\t0.051872120313\n",
      "  (0, 18945)\t0.0466189104495\n",
      "  (0, 17137)\t0.038836079719\n"
     ]
    }
   ],
   "source": [
    "print(features[0])"
   ]
  },
  {
   "cell_type": "markdown",
   "metadata": {},
   "source": [
    "> ### Linear Semantic Analysis"
   ]
  },
  {
   "cell_type": "code",
   "execution_count": 20,
   "metadata": {},
   "outputs": [
    {
     "data": {
      "text/plain": [
       "TruncatedSVD(algorithm='randomized', n_components=10, n_iter=100,\n",
       "       random_state=None, tol=0.0)"
      ]
     },
     "execution_count": 20,
     "metadata": {},
     "output_type": "execute_result"
    }
   ],
   "source": [
    "lsa = TruncatedSVD(n_components=10, n_iter=100)\n",
    "lsa.fit(features)"
   ]
  },
  {
   "cell_type": "markdown",
   "metadata": {},
   "source": [
    "> ### Print the discovered Concepts with top 10 associated words."
   ]
  },
  {
   "cell_type": "code",
   "execution_count": 21,
   "metadata": {},
   "outputs": [
    {
     "name": "stdout",
     "output_type": "stream",
     "text": [
      "Concept 0:\n",
      "management\n",
      "skills\n",
      "experience\n",
      "business\n",
      "new\n",
      "university\n",
      "work\n",
      "sales\n",
      "development\n",
      "team\n",
      " \n",
      "Concept 1:\n",
      "dayjob\n",
      "dayjob com\n",
      "template\n",
      "info dayjob\n",
      "coventry\n",
      "cv\n",
      "cv template\n",
      "www dayjob\n",
      "info\n",
      "personal\n",
      " \n",
      "Concept 2:\n",
      "dayjob\n",
      "dayjob com\n",
      "students\n",
      "student\n",
      "school\n",
      "use\n",
      "cv\n",
      "personal\n",
      "teaching\n",
      "academic\n",
      " \n",
      "Concept 3:\n",
      "web\n",
      "design\n",
      "developer\n",
      "java\n",
      "software\n",
      "sql\n",
      "html\n",
      "programming\n",
      "user\n",
      "project\n",
      " \n",
      "Concept 4:\n",
      "key responsibilities\n",
      "major tasks\n",
      "tasks included\n",
      "responsibilities major\n",
      "responsible generating\n",
      "qualification\n",
      "resume template\n",
      "excellent\n",
      "good\n",
      "analyzing monthly\n",
      " \n",
      "Concept 5:\n",
      "association\n",
      "key responsibilities\n",
      "major tasks\n",
      "tasks included\n",
      "responsibilities major\n",
      "responsible generating\n",
      "health\n",
      "international\n",
      "conference\n",
      "law\n",
      " \n",
      "Concept 6:\n",
      "accounting\n",
      "accountant\n",
      "date\n",
      "birth\n",
      "india\n",
      "date birth\n",
      "financial\n",
      "knowledge\n",
      "bank\n",
      "law\n",
      " \n",
      "Concept 7:\n",
      "key responsibilities\n",
      "major tasks\n",
      "tasks included\n",
      "responsibilities major\n",
      "responsible generating\n",
      "analyzing monthly\n",
      "generating analyzing\n",
      "generating\n",
      "analyzing\n",
      "known fluent\n",
      " \n",
      "Concept 8:\n",
      "monash\n",
      "monash edu\n",
      "monash university\n",
      "careers\n",
      "facebook\n",
      "au\n",
      "edu careers\n",
      "facebook com\n",
      "careers info\n",
      "com monashecd\n",
      " \n",
      "Concept 9:\n",
      "accounting\n",
      "financial\n",
      "finance\n",
      "accountant\n",
      "ca\n",
      "bank\n",
      "science\n",
      "august\n",
      "applications\n",
      "web\n",
      " \n"
     ]
    }
   ],
   "source": [
    "terms = vectorizer.get_feature_names()\n",
    "for i, comp in enumerate(lsa.components_): \n",
    "    termsInComp = zip (terms,comp)\n",
    "    sortedTerms =  sorted(termsInComp, key=lambda x: x[1], reverse=True) [:10]\n",
    "    print(\"Concept %d:\" % i )\n",
    "    for term in sortedTerms:\n",
    "        print(term[0])\n",
    "    print (\" \")"
   ]
  }
 ],
 "metadata": {
  "kernelspec": {
   "display_name": "Python 3",
   "language": "python",
   "name": "python3"
  },
  "language_info": {
   "codemirror_mode": {
    "name": "ipython",
    "version": 3
   },
   "file_extension": ".py",
   "mimetype": "text/x-python",
   "name": "python",
   "nbconvert_exporter": "python",
   "pygments_lexer": "ipython3",
   "version": "3.6.7"
  }
 },
 "nbformat": 4,
 "nbformat_minor": 2
}
